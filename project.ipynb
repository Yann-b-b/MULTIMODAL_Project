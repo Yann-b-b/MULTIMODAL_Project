{
 "cells": [
  {
   "cell_type": "code",
   "execution_count": 9,
   "metadata": {},
   "outputs": [
    {
     "name": "stderr",
     "output_type": "stream",
     "text": [
      "Saving Dataset: 100%|█████████▉| 49999/50000 [02:52<00:00, 290.63it/s]"
     ]
    },
    {
     "name": "stdout",
     "output_type": "stream",
     "text": [
      "Saved 50000 samples to omega_50k_samples.json.\n"
     ]
    },
    {
     "name": "stderr",
     "output_type": "stream",
     "text": [
      "\n"
     ]
    }
   ],
   "source": [
    "from datasets import load_dataset\n",
    "import json\n",
    "from tqdm import tqdm\n",
    "\n",
    "# Load dataset in streaming mode\n",
    "dataset = load_dataset(\"omegalabsinc/omega-multimodal\", split=\"train\", streaming=True)\n",
    "\n",
    "# Number of samples to collect\n",
    "num_samples = 50000\n",
    "output_file = \"omega_50k_samples.json\"\n",
    "\n",
    "# Stream and save data\n",
    "with open(output_file, \"w\", encoding=\"utf-8\") as f:\n",
    "    for i, sample in tqdm(enumerate(dataset), total=num_samples, desc=\"Saving Dataset\"):\n",
    "        json.dump(sample, f)\n",
    "        f.write(\"\\n\")  # New line for each JSON object\n",
    "        if i >= num_samples - 1:\n",
    "            break\n",
    "\n",
    "print(f\"Saved {num_samples} samples to {output_file}.\")\n"
   ]
  },
  {
   "cell_type": "code",
   "execution_count": 14,
   "metadata": {},
   "outputs": [
    {
     "name": "stdout",
     "output_type": "stream",
     "text": [
      "\n",
      "🔹 **Sample 1 Field Types:**\n",
      "  - video_id: <class 'str'>\n",
      "  - youtube_id: <class 'str'>\n",
      "  - description: <class 'str'>\n",
      "  - views: <class 'int'>\n",
      "  - start_time: <class 'int'>\n",
      "  - end_time: <class 'int'>\n",
      "  - video_embed: <class 'list'>\n",
      "  - audio_embed: <class 'list'>\n",
      "  - description_embed: <class 'list'>\n",
      "  - description_relevance_score: <class 'float'>\n",
      "  - query_relevance_score: <class 'float'>\n",
      "  - query: <class 'str'>\n",
      "  - submitted_at: <class 'int'>\n",
      "\n",
      "==================================================\n",
      "\n",
      "\n",
      "🔹 **Sample 2 Field Types:**\n",
      "  - video_id: <class 'str'>\n",
      "  - youtube_id: <class 'str'>\n",
      "  - description: <class 'str'>\n",
      "  - views: <class 'int'>\n",
      "  - start_time: <class 'int'>\n",
      "  - end_time: <class 'int'>\n",
      "  - video_embed: <class 'list'>\n",
      "  - audio_embed: <class 'list'>\n",
      "  - description_embed: <class 'list'>\n",
      "  - description_relevance_score: <class 'float'>\n",
      "  - query_relevance_score: <class 'float'>\n",
      "  - query: <class 'str'>\n",
      "  - submitted_at: <class 'int'>\n",
      "\n",
      "==================================================\n",
      "\n",
      "\n",
      "🔹 **Sample 3 Field Types:**\n",
      "  - video_id: <class 'str'>\n",
      "  - youtube_id: <class 'str'>\n",
      "  - description: <class 'str'>\n",
      "  - views: <class 'int'>\n",
      "  - start_time: <class 'int'>\n",
      "  - end_time: <class 'int'>\n",
      "  - video_embed: <class 'list'>\n",
      "  - audio_embed: <class 'list'>\n",
      "  - description_embed: <class 'list'>\n",
      "  - description_relevance_score: <class 'float'>\n",
      "  - query_relevance_score: <class 'float'>\n",
      "  - query: <class 'str'>\n",
      "  - submitted_at: <class 'int'>\n",
      "\n",
      "==================================================\n",
      "\n",
      "\n",
      "🔹 **Sample 4 Field Types:**\n",
      "  - video_id: <class 'str'>\n",
      "  - youtube_id: <class 'str'>\n",
      "  - description: <class 'str'>\n",
      "  - views: <class 'int'>\n",
      "  - start_time: <class 'int'>\n",
      "  - end_time: <class 'int'>\n",
      "  - video_embed: <class 'list'>\n",
      "  - audio_embed: <class 'list'>\n",
      "  - description_embed: <class 'list'>\n",
      "  - description_relevance_score: <class 'float'>\n",
      "  - query_relevance_score: <class 'float'>\n",
      "  - query: <class 'str'>\n",
      "  - submitted_at: <class 'int'>\n",
      "\n",
      "==================================================\n",
      "\n",
      "\n",
      "🔹 **Sample 5 Field Types:**\n",
      "  - video_id: <class 'str'>\n",
      "  - youtube_id: <class 'str'>\n",
      "  - description: <class 'str'>\n",
      "  - views: <class 'int'>\n",
      "  - start_time: <class 'int'>\n",
      "  - end_time: <class 'int'>\n",
      "  - video_embed: <class 'list'>\n",
      "  - audio_embed: <class 'list'>\n",
      "  - description_embed: <class 'list'>\n",
      "  - description_relevance_score: <class 'float'>\n",
      "  - query_relevance_score: <class 'float'>\n",
      "  - query: <class 'str'>\n",
      "  - submitted_at: <class 'int'>\n",
      "\n",
      "==================================================\n",
      "\n"
     ]
    }
   ],
   "source": [
    "import json\n",
    "\n",
    "# Path to saved dataset\n",
    "dataset_path = \"omega_50k_samples.json\"\n",
    "\n",
    "# Load and inspect dataset\n",
    "def inspect_dataset_structure(file_path, num_samples=5):\n",
    "    with open(file_path, \"r\", encoding=\"utf-8\") as f:\n",
    "        for i in range(num_samples):\n",
    "            line = f.readline().strip()\n",
    "            if not line:\n",
    "                print(f\"🔴 Empty line detected at entry {i+1}\")\n",
    "                continue\n",
    "            try:\n",
    "                sample = json.loads(line)\n",
    "                print(f\"\\n🔹 **Sample {i+1} Field Types:**\")\n",
    "                for key, value in sample.items():\n",
    "                    print(f\"  - {key}: {type(value)}\")\n",
    "                print(\"\\n\" + \"=\"*50 + \"\\n\")\n",
    "            except json.JSONDecodeError:\n",
    "                print(f\"🔴 JSON Decode Error in line {i+1}\")\n",
    "\n",
    "# Run preview function\n",
    "inspect_dataset_structure(dataset_path)\n"
   ]
  },
  {
   "cell_type": "code",
   "execution_count": 16,
   "metadata": {},
   "outputs": [
    {
     "name": "stdout",
     "output_type": "stream",
     "text": [
      "Sample 1:\n",
      "  video_embed size: 1024\n",
      "  description_embed size: 1024\n",
      "  audio_embed size: 1024\n",
      "========================================\n",
      "Sample 2:\n",
      "  video_embed size: 1024\n",
      "  description_embed size: 1024\n",
      "  audio_embed size: 1024\n",
      "========================================\n",
      "Sample 3:\n",
      "  video_embed size: 1024\n",
      "  description_embed size: 1024\n",
      "  audio_embed size: 1024\n",
      "========================================\n",
      "Sample 4:\n",
      "  video_embed size: 1024\n",
      "  description_embed size: 1024\n",
      "  audio_embed size: 1024\n",
      "========================================\n",
      "Sample 5:\n",
      "  video_embed size: 1024\n",
      "  description_embed size: 1024\n",
      "  audio_embed size: 1024\n",
      "========================================\n"
     ]
    }
   ],
   "source": [
    "import json\n",
    "\n",
    "dataset_path = \"omega_50k_samples.json\"\n",
    "\n",
    "def inspect_vector_sizes(file_path, num_samples=5):\n",
    "    with open(file_path, \"r\", encoding=\"utf-8\") as f:\n",
    "        for i in range(num_samples):\n",
    "            line = f.readline().strip()\n",
    "            if not line:\n",
    "                print(f\"Empty line at sample {i+1}\")\n",
    "                continue\n",
    "            try:\n",
    "                sample = json.loads(line)\n",
    "                video_size = len(sample.get(\"video_embed\", []))\n",
    "                description_size = len(sample.get(\"description_embed\", []))\n",
    "                audio_size = len(sample.get(\"audio_embed\", []))\n",
    "                print(f\"Sample {i+1}:\")\n",
    "                print(f\"  video_embed size: {video_size}\")\n",
    "                print(f\"  description_embed size: {description_size}\")\n",
    "                print(f\"  audio_embed size: {audio_size}\")\n",
    "                print(\"=\"*40)\n",
    "            except json.JSONDecodeError:\n",
    "                print(f\"JSON Decode Error in sample {i+1}\")\n",
    "\n",
    "inspect_vector_sizes(dataset_path)\n"
   ]
  },
  {
   "cell_type": "code",
   "execution_count": 26,
   "metadata": {},
   "outputs": [
    {
     "name": "stdout",
     "output_type": "stream",
     "text": [
      "🔹 Using device: mps\n"
     ]
    },
    {
     "name": "stderr",
     "output_type": "stream",
     "text": [
      "Loading Dataset: 50000it [00:46, 1083.39it/s]\n",
      "Epoch 1/20 [Train]: 100%|██████████| 625/625 [00:16<00:00, 38.31it/s]\n"
     ]
    },
    {
     "name": "stdout",
     "output_type": "stream",
     "text": [
      "Epoch 1/20 [Train]\n",
      "  🔹 Audio → Text Loss: 0.4674\n",
      "  🔹 Text → Video Loss: 0.4172\n",
      "  🔹 Video → Audio Loss: 0.2614\n"
     ]
    },
    {
     "name": "stderr",
     "output_type": "stream",
     "text": [
      "Epoch 1/20 [Test]: 100%|██████████| 157/157 [00:00<00:00, 288.04it/s]\n"
     ]
    },
    {
     "name": "stdout",
     "output_type": "stream",
     "text": [
      "Epoch 1/20 [Test]\n",
      "  🔹 Audio → Text Test Loss: 0.4583\n",
      "  🔹 Text → Video Test Loss: 0.4034\n",
      "  🔹 Video → Audio Test Loss: 0.1376\n"
     ]
    },
    {
     "name": "stderr",
     "output_type": "stream",
     "text": [
      "Epoch 2/20 [Train]: 100%|██████████| 625/625 [00:17<00:00, 36.42it/s]\n"
     ]
    },
    {
     "name": "stdout",
     "output_type": "stream",
     "text": [
      "Epoch 2/20 [Train]\n",
      "  🔹 Audio → Text Loss: 0.4551\n",
      "  🔹 Text → Video Loss: 0.4002\n",
      "  🔹 Video → Audio Loss: 0.1162\n"
     ]
    },
    {
     "name": "stderr",
     "output_type": "stream",
     "text": [
      "Epoch 2/20 [Test]: 100%|██████████| 157/157 [00:00<00:00, 299.20it/s]\n"
     ]
    },
    {
     "name": "stdout",
     "output_type": "stream",
     "text": [
      "Epoch 2/20 [Test]\n",
      "  🔹 Audio → Text Test Loss: 0.4560\n",
      "  🔹 Text → Video Test Loss: 0.3989\n",
      "  🔹 Video → Audio Test Loss: 0.0986\n"
     ]
    },
    {
     "name": "stderr",
     "output_type": "stream",
     "text": [
      "Epoch 3/20 [Train]: 100%|██████████| 625/625 [00:16<00:00, 38.67it/s]\n"
     ]
    },
    {
     "name": "stdout",
     "output_type": "stream",
     "text": [
      "Epoch 3/20 [Train]\n",
      "  🔹 Audio → Text Loss: 0.4522\n",
      "  🔹 Text → Video Loss: 0.3964\n",
      "  🔹 Video → Audio Loss: 0.0872\n"
     ]
    },
    {
     "name": "stderr",
     "output_type": "stream",
     "text": [
      "Epoch 3/20 [Test]: 100%|██████████| 157/157 [00:00<00:00, 310.51it/s]\n"
     ]
    },
    {
     "name": "stdout",
     "output_type": "stream",
     "text": [
      "Epoch 3/20 [Test]\n",
      "  🔹 Audio → Text Test Loss: 0.4549\n",
      "  🔹 Text → Video Test Loss: 0.3968\n",
      "  🔹 Video → Audio Test Loss: 0.0804\n"
     ]
    },
    {
     "name": "stderr",
     "output_type": "stream",
     "text": [
      "Epoch 4/20 [Train]: 100%|██████████| 625/625 [00:16<00:00, 38.72it/s]\n"
     ]
    },
    {
     "name": "stdout",
     "output_type": "stream",
     "text": [
      "Epoch 4/20 [Train]\n",
      "  🔹 Audio → Text Loss: 0.4500\n",
      "  🔹 Text → Video Loss: 0.3938\n",
      "  🔹 Video → Audio Loss: 0.0729\n"
     ]
    },
    {
     "name": "stderr",
     "output_type": "stream",
     "text": [
      "Epoch 4/20 [Test]: 100%|██████████| 157/157 [00:00<00:00, 308.23it/s]\n"
     ]
    },
    {
     "name": "stdout",
     "output_type": "stream",
     "text": [
      "Epoch 4/20 [Test]\n",
      "  🔹 Audio → Text Test Loss: 0.4544\n",
      "  🔹 Text → Video Test Loss: 0.3957\n",
      "  🔹 Video → Audio Test Loss: 0.0686\n"
     ]
    },
    {
     "name": "stderr",
     "output_type": "stream",
     "text": [
      "Epoch 5/20 [Train]: 100%|██████████| 625/625 [00:17<00:00, 35.36it/s]\n"
     ]
    },
    {
     "name": "stdout",
     "output_type": "stream",
     "text": [
      "Epoch 5/20 [Train]\n",
      "  🔹 Audio → Text Loss: 0.4480\n",
      "  🔹 Text → Video Loss: 0.3917\n",
      "  🔹 Video → Audio Loss: 0.0644\n"
     ]
    },
    {
     "name": "stderr",
     "output_type": "stream",
     "text": [
      "Epoch 5/20 [Test]: 100%|██████████| 157/157 [00:00<00:00, 270.22it/s]\n"
     ]
    },
    {
     "name": "stdout",
     "output_type": "stream",
     "text": [
      "Epoch 5/20 [Test]\n",
      "  🔹 Audio → Text Test Loss: 0.4539\n",
      "  🔹 Text → Video Test Loss: 0.3946\n",
      "  🔹 Video → Audio Test Loss: 0.0601\n"
     ]
    },
    {
     "name": "stderr",
     "output_type": "stream",
     "text": [
      "Epoch 6/20 [Train]: 100%|██████████| 625/625 [00:17<00:00, 35.98it/s]\n"
     ]
    },
    {
     "name": "stdout",
     "output_type": "stream",
     "text": [
      "Epoch 6/20 [Train]\n",
      "  🔹 Audio → Text Loss: 0.4459\n",
      "  🔹 Text → Video Loss: 0.3895\n",
      "  🔹 Video → Audio Loss: 0.0586\n"
     ]
    },
    {
     "name": "stderr",
     "output_type": "stream",
     "text": [
      "Epoch 6/20 [Test]: 100%|██████████| 157/157 [00:00<00:00, 272.97it/s]\n"
     ]
    },
    {
     "name": "stdout",
     "output_type": "stream",
     "text": [
      "Epoch 6/20 [Test]\n",
      "  🔹 Audio → Text Test Loss: 0.4539\n",
      "  🔹 Text → Video Test Loss: 0.3945\n",
      "  🔹 Video → Audio Test Loss: 0.0578\n"
     ]
    },
    {
     "name": "stderr",
     "output_type": "stream",
     "text": [
      "Epoch 7/20 [Train]: 100%|██████████| 625/625 [00:17<00:00, 35.51it/s]\n"
     ]
    },
    {
     "name": "stdout",
     "output_type": "stream",
     "text": [
      "Epoch 7/20 [Train]\n",
      "  🔹 Audio → Text Loss: 0.4437\n",
      "  🔹 Text → Video Loss: 0.3873\n",
      "  🔹 Video → Audio Loss: 0.0545\n"
     ]
    },
    {
     "name": "stderr",
     "output_type": "stream",
     "text": [
      "Epoch 7/20 [Test]: 100%|██████████| 157/157 [00:00<00:00, 269.51it/s]\n"
     ]
    },
    {
     "name": "stdout",
     "output_type": "stream",
     "text": [
      "Epoch 7/20 [Test]\n",
      "  🔹 Audio → Text Test Loss: 0.4543\n",
      "  🔹 Text → Video Test Loss: 0.3942\n",
      "  🔹 Video → Audio Test Loss: 0.0543\n"
     ]
    },
    {
     "name": "stderr",
     "output_type": "stream",
     "text": [
      "Epoch 8/20 [Train]: 100%|██████████| 625/625 [00:17<00:00, 35.53it/s]\n"
     ]
    },
    {
     "name": "stdout",
     "output_type": "stream",
     "text": [
      "Epoch 8/20 [Train]\n",
      "  🔹 Audio → Text Loss: 0.4412\n",
      "  🔹 Text → Video Loss: 0.3850\n",
      "  🔹 Video → Audio Loss: 0.0515\n"
     ]
    },
    {
     "name": "stderr",
     "output_type": "stream",
     "text": [
      "Epoch 8/20 [Test]: 100%|██████████| 157/157 [00:00<00:00, 307.06it/s]\n"
     ]
    },
    {
     "name": "stdout",
     "output_type": "stream",
     "text": [
      "Epoch 8/20 [Test]\n",
      "  🔹 Audio → Text Test Loss: 0.4549\n",
      "  🔹 Text → Video Test Loss: 0.3939\n",
      "  🔹 Video → Audio Test Loss: 0.0523\n"
     ]
    },
    {
     "name": "stderr",
     "output_type": "stream",
     "text": [
      "Epoch 9/20 [Train]: 100%|██████████| 625/625 [00:18<00:00, 34.63it/s]\n"
     ]
    },
    {
     "name": "stdout",
     "output_type": "stream",
     "text": [
      "Epoch 9/20 [Train]\n",
      "  🔹 Audio → Text Loss: 0.4383\n",
      "  🔹 Text → Video Loss: 0.3822\n",
      "  🔹 Video → Audio Loss: 0.0493\n"
     ]
    },
    {
     "name": "stderr",
     "output_type": "stream",
     "text": [
      "Epoch 9/20 [Test]: 100%|██████████| 157/157 [00:00<00:00, 158.05it/s]\n"
     ]
    },
    {
     "name": "stdout",
     "output_type": "stream",
     "text": [
      "Epoch 9/20 [Test]\n",
      "  🔹 Audio → Text Test Loss: 0.4558\n",
      "  🔹 Text → Video Test Loss: 0.3954\n",
      "  🔹 Video → Audio Test Loss: 0.0499\n"
     ]
    },
    {
     "name": "stderr",
     "output_type": "stream",
     "text": [
      "Epoch 10/20 [Train]: 100%|██████████| 625/625 [00:17<00:00, 36.34it/s]\n"
     ]
    },
    {
     "name": "stdout",
     "output_type": "stream",
     "text": [
      "Epoch 10/20 [Train]\n",
      "  🔹 Audio → Text Loss: 0.4349\n",
      "  🔹 Text → Video Loss: 0.3791\n",
      "  🔹 Video → Audio Loss: 0.0477\n"
     ]
    },
    {
     "name": "stderr",
     "output_type": "stream",
     "text": [
      "Epoch 10/20 [Test]: 100%|██████████| 157/157 [00:00<00:00, 168.43it/s]\n"
     ]
    },
    {
     "name": "stdout",
     "output_type": "stream",
     "text": [
      "Epoch 10/20 [Test]\n",
      "  🔹 Audio → Text Test Loss: 0.4570\n",
      "  🔹 Text → Video Test Loss: 0.3953\n",
      "  🔹 Video → Audio Test Loss: 0.0489\n"
     ]
    },
    {
     "name": "stderr",
     "output_type": "stream",
     "text": [
      "Epoch 11/20 [Train]: 100%|██████████| 625/625 [00:18<00:00, 34.36it/s]\n"
     ]
    },
    {
     "name": "stdout",
     "output_type": "stream",
     "text": [
      "Epoch 11/20 [Train]\n",
      "  🔹 Audio → Text Loss: 0.4309\n",
      "  🔹 Text → Video Loss: 0.3751\n",
      "  🔹 Video → Audio Loss: 0.0467\n"
     ]
    },
    {
     "name": "stderr",
     "output_type": "stream",
     "text": [
      "Epoch 11/20 [Test]: 100%|██████████| 157/157 [00:00<00:00, 262.93it/s]\n"
     ]
    },
    {
     "name": "stdout",
     "output_type": "stream",
     "text": [
      "Epoch 11/20 [Test]\n",
      "  🔹 Audio → Text Test Loss: 0.4579\n",
      "  🔹 Text → Video Test Loss: 0.3949\n",
      "  🔹 Video → Audio Test Loss: 0.0481\n"
     ]
    },
    {
     "name": "stderr",
     "output_type": "stream",
     "text": [
      "Epoch 12/20 [Train]: 100%|██████████| 625/625 [00:18<00:00, 34.66it/s]\n"
     ]
    },
    {
     "name": "stdout",
     "output_type": "stream",
     "text": [
      "Epoch 12/20 [Train]\n",
      "  🔹 Audio → Text Loss: 0.4266\n",
      "  🔹 Text → Video Loss: 0.3710\n",
      "  🔹 Video → Audio Loss: 0.0460\n"
     ]
    },
    {
     "name": "stderr",
     "output_type": "stream",
     "text": [
      "Epoch 12/20 [Test]: 100%|██████████| 157/157 [00:00<00:00, 257.45it/s]\n"
     ]
    },
    {
     "name": "stdout",
     "output_type": "stream",
     "text": [
      "Epoch 12/20 [Test]\n",
      "  🔹 Audio → Text Test Loss: 0.4601\n",
      "  🔹 Text → Video Test Loss: 0.3967\n",
      "  🔹 Video → Audio Test Loss: 0.0465\n"
     ]
    },
    {
     "name": "stderr",
     "output_type": "stream",
     "text": [
      "Epoch 13/20 [Train]: 100%|██████████| 625/625 [00:18<00:00, 34.16it/s]\n"
     ]
    },
    {
     "name": "stdout",
     "output_type": "stream",
     "text": [
      "Epoch 13/20 [Train]\n",
      "  🔹 Audio → Text Loss: 0.4216\n",
      "  🔹 Text → Video Loss: 0.3659\n",
      "  🔹 Video → Audio Loss: 0.0452\n"
     ]
    },
    {
     "name": "stderr",
     "output_type": "stream",
     "text": [
      "Epoch 13/20 [Test]: 100%|██████████| 157/157 [00:00<00:00, 232.79it/s]\n"
     ]
    },
    {
     "name": "stdout",
     "output_type": "stream",
     "text": [
      "Epoch 13/20 [Test]\n",
      "  🔹 Audio → Text Test Loss: 0.4617\n",
      "  🔹 Text → Video Test Loss: 0.3977\n",
      "  🔹 Video → Audio Test Loss: 0.0470\n"
     ]
    },
    {
     "name": "stderr",
     "output_type": "stream",
     "text": [
      "Epoch 14/20 [Train]: 100%|██████████| 625/625 [00:18<00:00, 34.54it/s]\n"
     ]
    },
    {
     "name": "stdout",
     "output_type": "stream",
     "text": [
      "Epoch 14/20 [Train]\n",
      "  🔹 Audio → Text Loss: 0.4165\n",
      "  🔹 Text → Video Loss: 0.3609\n",
      "  🔹 Video → Audio Loss: 0.0450\n"
     ]
    },
    {
     "name": "stderr",
     "output_type": "stream",
     "text": [
      "Epoch 14/20 [Test]: 100%|██████████| 157/157 [00:00<00:00, 274.84it/s]\n"
     ]
    },
    {
     "name": "stdout",
     "output_type": "stream",
     "text": [
      "Epoch 14/20 [Test]\n",
      "  🔹 Audio → Text Test Loss: 0.4645\n",
      "  🔹 Text → Video Test Loss: 0.3991\n",
      "  🔹 Video → Audio Test Loss: 0.0469\n"
     ]
    },
    {
     "name": "stderr",
     "output_type": "stream",
     "text": [
      "Epoch 15/20 [Train]: 100%|██████████| 625/625 [00:16<00:00, 37.25it/s]\n"
     ]
    },
    {
     "name": "stdout",
     "output_type": "stream",
     "text": [
      "Epoch 15/20 [Train]\n",
      "  🔹 Audio → Text Loss: 0.4109\n",
      "  🔹 Text → Video Loss: 0.3555\n",
      "  🔹 Video → Audio Loss: 0.0447\n"
     ]
    },
    {
     "name": "stderr",
     "output_type": "stream",
     "text": [
      "Epoch 15/20 [Test]: 100%|██████████| 157/157 [00:01<00:00, 133.46it/s]\n"
     ]
    },
    {
     "name": "stdout",
     "output_type": "stream",
     "text": [
      "Epoch 15/20 [Test]\n",
      "  🔹 Audio → Text Test Loss: 0.4676\n",
      "  🔹 Text → Video Test Loss: 0.4009\n",
      "  🔹 Video → Audio Test Loss: 0.0475\n"
     ]
    },
    {
     "name": "stderr",
     "output_type": "stream",
     "text": [
      "Epoch 16/20 [Train]: 100%|██████████| 625/625 [00:16<00:00, 37.83it/s]\n"
     ]
    },
    {
     "name": "stdout",
     "output_type": "stream",
     "text": [
      "Epoch 16/20 [Train]\n",
      "  🔹 Audio → Text Loss: 0.4051\n",
      "  🔹 Text → Video Loss: 0.3496\n",
      "  🔹 Video → Audio Loss: 0.0447\n"
     ]
    },
    {
     "name": "stderr",
     "output_type": "stream",
     "text": [
      "Epoch 16/20 [Test]: 100%|██████████| 157/157 [00:00<00:00, 294.88it/s]\n"
     ]
    },
    {
     "name": "stdout",
     "output_type": "stream",
     "text": [
      "Epoch 16/20 [Test]\n",
      "  🔹 Audio → Text Test Loss: 0.4696\n",
      "  🔹 Text → Video Test Loss: 0.4019\n",
      "  🔹 Video → Audio Test Loss: 0.0459\n"
     ]
    },
    {
     "name": "stderr",
     "output_type": "stream",
     "text": [
      "Epoch 17/20 [Train]: 100%|██████████| 625/625 [00:18<00:00, 33.04it/s]\n"
     ]
    },
    {
     "name": "stdout",
     "output_type": "stream",
     "text": [
      "Epoch 17/20 [Train]\n",
      "  🔹 Audio → Text Loss: 0.3994\n",
      "  🔹 Text → Video Loss: 0.3439\n",
      "  🔹 Video → Audio Loss: 0.0443\n"
     ]
    },
    {
     "name": "stderr",
     "output_type": "stream",
     "text": [
      "Epoch 17/20 [Test]: 100%|██████████| 157/157 [00:00<00:00, 185.15it/s]\n"
     ]
    },
    {
     "name": "stdout",
     "output_type": "stream",
     "text": [
      "Epoch 17/20 [Test]\n",
      "  🔹 Audio → Text Test Loss: 0.4729\n",
      "  🔹 Text → Video Test Loss: 0.4055\n",
      "  🔹 Video → Audio Test Loss: 0.0459\n"
     ]
    },
    {
     "name": "stderr",
     "output_type": "stream",
     "text": [
      "Epoch 18/20 [Train]: 100%|██████████| 625/625 [00:17<00:00, 34.99it/s]\n"
     ]
    },
    {
     "name": "stdout",
     "output_type": "stream",
     "text": [
      "Epoch 18/20 [Train]\n",
      "  🔹 Audio → Text Loss: 0.3934\n",
      "  🔹 Text → Video Loss: 0.3381\n",
      "  🔹 Video → Audio Loss: 0.0442\n"
     ]
    },
    {
     "name": "stderr",
     "output_type": "stream",
     "text": [
      "Epoch 18/20 [Test]: 100%|██████████| 157/157 [00:00<00:00, 254.91it/s]\n"
     ]
    },
    {
     "name": "stdout",
     "output_type": "stream",
     "text": [
      "Epoch 18/20 [Test]\n",
      "  🔹 Audio → Text Test Loss: 0.4758\n",
      "  🔹 Text → Video Test Loss: 0.4114\n",
      "  🔹 Video → Audio Test Loss: 0.0468\n"
     ]
    },
    {
     "name": "stderr",
     "output_type": "stream",
     "text": [
      "Epoch 19/20 [Train]: 100%|██████████| 625/625 [00:17<00:00, 35.14it/s]\n"
     ]
    },
    {
     "name": "stdout",
     "output_type": "stream",
     "text": [
      "Epoch 19/20 [Train]\n",
      "  🔹 Audio → Text Loss: 0.3874\n",
      "  🔹 Text → Video Loss: 0.3320\n",
      "  🔹 Video → Audio Loss: 0.0442\n"
     ]
    },
    {
     "name": "stderr",
     "output_type": "stream",
     "text": [
      "Epoch 19/20 [Test]: 100%|██████████| 157/157 [00:00<00:00, 260.32it/s]\n"
     ]
    },
    {
     "name": "stdout",
     "output_type": "stream",
     "text": [
      "Epoch 19/20 [Test]\n",
      "  🔹 Audio → Text Test Loss: 0.4786\n",
      "  🔹 Text → Video Test Loss: 0.4117\n",
      "  🔹 Video → Audio Test Loss: 0.0471\n"
     ]
    },
    {
     "name": "stderr",
     "output_type": "stream",
     "text": [
      "Epoch 20/20 [Train]: 100%|██████████| 625/625 [00:16<00:00, 37.26it/s]\n"
     ]
    },
    {
     "name": "stdout",
     "output_type": "stream",
     "text": [
      "Epoch 20/20 [Train]\n",
      "  🔹 Audio → Text Loss: 0.3813\n",
      "  🔹 Text → Video Loss: 0.3264\n",
      "  🔹 Video → Audio Loss: 0.0440\n"
     ]
    },
    {
     "name": "stderr",
     "output_type": "stream",
     "text": [
      "Epoch 20/20 [Test]: 100%|██████████| 157/157 [00:00<00:00, 281.77it/s]\n"
     ]
    },
    {
     "name": "stdout",
     "output_type": "stream",
     "text": [
      "Epoch 20/20 [Test]\n",
      "  🔹 Audio → Text Test Loss: 0.4820\n",
      "  🔹 Text → Video Test Loss: 0.4121\n",
      "  🔹 Video → Audio Test Loss: 0.0472\n",
      "✅ Models saved successfully.\n"
     ]
    }
   ],
   "source": [
    "import torch\n",
    "import torch.nn as nn\n",
    "import torch.optim as optim\n",
    "from torch.utils.data import DataLoader, Dataset, random_split\n",
    "import json\n",
    "from tqdm import tqdm\n",
    "\n",
    "# Define MLP model for modality transformation\n",
    "class MLPHead(nn.Module):\n",
    "    def __init__(self, input_dim, output_dim, hidden_dim=2028):\n",
    "        super(MLPHead, self).__init__()\n",
    "        self.model = nn.Sequential(\n",
    "            nn.Linear(input_dim, hidden_dim),\n",
    "            nn.ReLU(),\n",
    "            nn.Linear(hidden_dim, hidden_dim),\n",
    "            nn.ReLU(),\n",
    "            nn.Linear(hidden_dim, output_dim)  # Output stays in the embedding space\n",
    "        )\n",
    "\n",
    "    def forward(self, x):\n",
    "        return self.model(x)\n",
    "\n",
    "# Custom dataset class for loading preprocessed embeddings\n",
    "class OmegaMultimodalDataset(Dataset):\n",
    "    def __init__(self, file_path):\n",
    "        self.data = []\n",
    "        with open(file_path, \"r\", encoding=\"utf-8\") as f:\n",
    "            for line in tqdm(f, desc=\"Loading Dataset\"):\n",
    "                sample = json.loads(line)\n",
    "\n",
    "                # Ensure all required fields are present\n",
    "                if \"audio_embed\" in sample and \"description_embed\" in sample and \"video_embed\" in sample:\n",
    "                    self.data.append({\n",
    "                        \"audio\": torch.tensor(sample[\"audio_embed\"], dtype=torch.float32),\n",
    "                        \"text\": torch.tensor(sample[\"description_embed\"], dtype=torch.float32),\n",
    "                        \"video\": torch.tensor(sample[\"video_embed\"], dtype=torch.float32),\n",
    "                    })\n",
    "\n",
    "        if len(self.data) == 0:\n",
    "            raise ValueError(\"🔴 No valid samples found! Check JSON structure.\")\n",
    "\n",
    "    def __len__(self):\n",
    "        return len(self.data)\n",
    "\n",
    "    def __getitem__(self, idx):\n",
    "        return self.data[idx]\n",
    "\n",
    "# Detect MPS, CUDA, or fallback to CPU\n",
    "device = \"mps\" if torch.backends.mps.is_available() else \"cuda\" if torch.cuda.is_available() else \"cpu\"\n",
    "print(f\"🔹 Using device: {device}\")\n",
    "\n",
    "# Load dataset\n",
    "dataset_path = \"omega_50k_samples.json\"\n",
    "dataset = OmegaMultimodalDataset(dataset_path)\n",
    "\n",
    "# Train-Test Split (80% Train, 20% Test)\n",
    "train_size = int(0.8 * len(dataset))\n",
    "test_size = len(dataset) - train_size\n",
    "train_dataset, test_dataset = random_split(dataset, [train_size, test_size])\n",
    "\n",
    "# Create DataLoaders\n",
    "train_dataloader = DataLoader(train_dataset, batch_size=64, shuffle=True)\n",
    "test_dataloader = DataLoader(test_dataset, batch_size=64, shuffle=False)\n",
    "\n",
    "# Determine embedding size\n",
    "embedding_dim = len(dataset[0][\"audio\"])\n",
    "\n",
    "# Initialize MLP heads for modality transformation (preserve embedding dimension)\n",
    "audio_to_text = MLPHead(embedding_dim, embedding_dim).to(device)\n",
    "text_to_video = MLPHead(embedding_dim, embedding_dim).to(device)\n",
    "video_to_audio = MLPHead(embedding_dim, embedding_dim).to(device)\n",
    "\n",
    "# Optimizers for each MLP\n",
    "optimizer_a2t = optim.Adam(audio_to_text.parameters(), lr=1e-4)\n",
    "optimizer_t2v = optim.Adam(text_to_video.parameters(), lr=1e-4)\n",
    "optimizer_v2a = optim.Adam(video_to_audio.parameters(), lr=1e-4)\n",
    "\n",
    "# Loss function (Cosine Similarity Loss)\n",
    "criterion = nn.CosineEmbeddingLoss(margin=0.1)\n",
    "\n",
    "# Training loop\n",
    "num_epochs = 20\n",
    "\n",
    "for epoch in range(num_epochs):\n",
    "    total_loss_a2t = 0\n",
    "    total_loss_t2v = 0\n",
    "    total_loss_v2a = 0\n",
    "\n",
    "    # 🔹 Training Phase\n",
    "    audio_to_text.train()\n",
    "    text_to_video.train()\n",
    "    video_to_audio.train()\n",
    "\n",
    "    for batch in tqdm(train_dataloader, desc=f\"Epoch {epoch+1}/{num_epochs} [Train]\"):\n",
    "        # Move data to device\n",
    "        audio_emb = batch[\"audio\"].to(device)\n",
    "        text_emb = batch[\"text\"].to(device)\n",
    "        video_emb = batch[\"video\"].to(device)\n",
    "\n",
    "        # Forward passes through MLPs\n",
    "        pred_text = audio_to_text(audio_emb)  # Audio → Text\n",
    "        pred_video = text_to_video(pred_text)  # Text → Video\n",
    "        pred_audio = video_to_audio(pred_video)  # Video → Audio\n",
    "\n",
    "        # Ensure labels match batch size for loss function\n",
    "        batch_size = audio_emb.shape[0]\n",
    "        positive_labels = torch.ones(batch_size, device=device)  # Ensure correct shape\n",
    "\n",
    "        # Compute individual losses per MLP\n",
    "        loss_a2t = criterion(pred_text, text_emb, positive_labels)  # Audio → Text Loss\n",
    "        loss_t2v = criterion(pred_video, video_emb, positive_labels)  # Text → Video Loss\n",
    "        loss_v2a = criterion(pred_audio, audio_emb, positive_labels)  # Video → Audio Loss\n",
    "\n",
    "        # Zero gradients for each optimizer\n",
    "        optimizer_a2t.zero_grad()\n",
    "        optimizer_t2v.zero_grad()\n",
    "        optimizer_v2a.zero_grad()\n",
    "\n",
    "        # Backpropagate individual losses separately, retaining graph where needed\n",
    "        loss_a2t.backward(retain_graph=True)\n",
    "        loss_t2v.backward(retain_graph=True)\n",
    "        loss_v2a.backward()  # Last backward call does not need retain_graph=True\n",
    "\n",
    "        # Update parameters\n",
    "        optimizer_a2t.step()\n",
    "        optimizer_t2v.step()\n",
    "        optimizer_v2a.step()\n",
    "\n",
    "        # Accumulate loss\n",
    "        total_loss_a2t += loss_a2t.item()\n",
    "        total_loss_t2v += loss_t2v.item()\n",
    "        total_loss_v2a += loss_v2a.item()\n",
    "\n",
    "    # Compute average loss per epoch\n",
    "    avg_loss_a2t = total_loss_a2t / len(train_dataloader)\n",
    "    avg_loss_t2v = total_loss_t2v / len(train_dataloader)\n",
    "    avg_loss_v2a = total_loss_v2a / len(train_dataloader)\n",
    "\n",
    "    print(f\"Epoch {epoch+1}/{num_epochs} [Train]\")\n",
    "    print(f\"  🔹 Audio → Text Loss: {avg_loss_a2t:.4f}\")\n",
    "    print(f\"  🔹 Text → Video Loss: {avg_loss_t2v:.4f}\")\n",
    "    print(f\"  🔹 Video → Audio Loss: {avg_loss_v2a:.4f}\")\n",
    "\n",
    "    # 🔹 Evaluation Phase (on Test Set)\n",
    "    audio_to_text.eval()\n",
    "    text_to_video.eval()\n",
    "    video_to_audio.eval()\n",
    "\n",
    "    total_test_loss_a2t = 0\n",
    "    total_test_loss_t2v = 0\n",
    "    total_test_loss_v2a = 0\n",
    "\n",
    "    with torch.no_grad():\n",
    "        for batch in tqdm(test_dataloader, desc=f\"Epoch {epoch+1}/{num_epochs} [Test]\"):\n",
    "            # Move data to device\n",
    "            audio_emb = batch[\"audio\"].to(device)\n",
    "            text_emb = batch[\"text\"].to(device)\n",
    "            video_emb = batch[\"video\"].to(device)\n",
    "\n",
    "            # Forward passes\n",
    "            pred_text = audio_to_text(audio_emb)\n",
    "            pred_video = text_to_video(pred_text)\n",
    "            pred_audio = video_to_audio(pred_video)\n",
    "\n",
    "            # Ensure labels match batch size for loss function\n",
    "            batch_size = audio_emb.shape[0]\n",
    "            positive_labels = torch.ones(batch_size, device=device)\n",
    "\n",
    "            # Compute test losses\n",
    "            loss_a2t = criterion(pred_text, text_emb, positive_labels)\n",
    "            loss_t2v = criterion(pred_video, video_emb, positive_labels)\n",
    "            loss_v2a = criterion(pred_audio, audio_emb, positive_labels)\n",
    "\n",
    "            # Accumulate test loss\n",
    "            total_test_loss_a2t += loss_a2t.item()\n",
    "            total_test_loss_t2v += loss_t2v.item()\n",
    "            total_test_loss_v2a += loss_v2a.item()\n",
    "\n",
    "    avg_test_loss_a2t = total_test_loss_a2t / len(test_dataloader)\n",
    "    avg_test_loss_t2v = total_test_loss_t2v / len(test_dataloader)\n",
    "    avg_test_loss_v2a = total_test_loss_v2a / len(test_dataloader)\n",
    "\n",
    "    print(f\"Epoch {epoch+1}/{num_epochs} [Test]\")\n",
    "    print(f\"  🔹 Audio → Text Test Loss: {avg_test_loss_a2t:.4f}\")\n",
    "    print(f\"  🔹 Text → Video Test Loss: {avg_test_loss_t2v:.4f}\")\n",
    "    print(f\"  🔹 Video → Audio Test Loss: {avg_test_loss_v2a:.4f}\")\n",
    "\n",
    "# Save trained models\n",
    "torch.save(audio_to_text.state_dict(), \"audio_to_text.pth\")\n",
    "torch.save(text_to_video.state_dict(), \"text_to_video.pth\")\n",
    "torch.save(video_to_audio.state_dict(), \"video_to_audio.pth\")\n",
    "\n",
    "print(\"✅ Models saved successfully.\")\n"
   ]
  },
  {
   "cell_type": "code",
   "execution_count": 30,
   "metadata": {},
   "outputs": [
    {
     "ename": "AttributeError",
     "evalue": "module 'numpy' has no attribute '_no_nep50_warning'",
     "output_type": "error",
     "traceback": [
      "\u001b[31m---------------------------------------------------------------------------\u001b[39m",
      "\u001b[31mAttributeError\u001b[39m                            Traceback (most recent call last)",
      "\u001b[36mCell\u001b[39m\u001b[36m \u001b[39m\u001b[32mIn[30]\u001b[39m\u001b[32m, line 1\u001b[39m\n\u001b[32m----> \u001b[39m\u001b[32m1\u001b[39m \u001b[38;5;28;01mimport\u001b[39;00m\u001b[38;5;250m \u001b[39m\u001b[34;01mumap\u001b[39;00m\u001b[34;01m.\u001b[39;00m\u001b[34;01mumap_\u001b[39;00m\u001b[38;5;250m \u001b[39m\u001b[38;5;28;01mas\u001b[39;00m\u001b[38;5;250m \u001b[39m\u001b[34;01mumap\u001b[39;00m\n\u001b[32m      2\u001b[39m \u001b[38;5;28mprint\u001b[39m(umap.UMAP())\n",
      "\u001b[36mFile \u001b[39m\u001b[32m~/miniconda3/envs/multimodal/lib/python3.12/site-packages/umap/umap_.py:10\u001b[39m\n\u001b[32m      7\u001b[39m \u001b[38;5;28;01mfrom\u001b[39;00m\u001b[38;5;250m \u001b[39m\u001b[34;01mwarnings\u001b[39;00m\u001b[38;5;250m \u001b[39m\u001b[38;5;28;01mimport\u001b[39;00m warn\n\u001b[32m      8\u001b[39m \u001b[38;5;28;01mimport\u001b[39;00m\u001b[38;5;250m \u001b[39m\u001b[34;01mtime\u001b[39;00m\n\u001b[32m---> \u001b[39m\u001b[32m10\u001b[39m \u001b[38;5;28;01mfrom\u001b[39;00m\u001b[38;5;250m \u001b[39m\u001b[34;01mscipy\u001b[39;00m\u001b[34;01m.\u001b[39;00m\u001b[34;01moptimize\u001b[39;00m\u001b[38;5;250m \u001b[39m\u001b[38;5;28;01mimport\u001b[39;00m curve_fit\n\u001b[32m     11\u001b[39m \u001b[38;5;28;01mfrom\u001b[39;00m\u001b[38;5;250m \u001b[39m\u001b[34;01msklearn\u001b[39;00m\u001b[34;01m.\u001b[39;00m\u001b[34;01mbase\u001b[39;00m\u001b[38;5;250m \u001b[39m\u001b[38;5;28;01mimport\u001b[39;00m BaseEstimator\n\u001b[32m     12\u001b[39m \u001b[38;5;28;01mfrom\u001b[39;00m\u001b[38;5;250m \u001b[39m\u001b[34;01msklearn\u001b[39;00m\u001b[34;01m.\u001b[39;00m\u001b[34;01mutils\u001b[39;00m\u001b[38;5;250m \u001b[39m\u001b[38;5;28;01mimport\u001b[39;00m check_random_state, check_array\n",
      "\u001b[36mFile \u001b[39m\u001b[32m~/miniconda3/envs/multimodal/lib/python3.12/site-packages/scipy/optimize/__init__.py:422\u001b[39m\n\u001b[32m      1\u001b[39m \u001b[33;03m\"\"\"\u001b[39;00m\n\u001b[32m      2\u001b[39m \u001b[33;03m=====================================================\u001b[39;00m\n\u001b[32m      3\u001b[39m \u001b[33;03mOptimization and root finding (:mod:`scipy.optimize`)\u001b[39;00m\n\u001b[32m   (...)\u001b[39m\u001b[32m    419\u001b[39m \n\u001b[32m    420\u001b[39m \u001b[33;03m\"\"\"\u001b[39;00m  \u001b[38;5;66;03m# noqa: E501\u001b[39;00m\n\u001b[32m--> \u001b[39m\u001b[32m422\u001b[39m \u001b[38;5;28;01mfrom\u001b[39;00m\u001b[38;5;250m \u001b[39m\u001b[34;01m.\u001b[39;00m\u001b[34;01m_optimize\u001b[39;00m\u001b[38;5;250m \u001b[39m\u001b[38;5;28;01mimport\u001b[39;00m *\n\u001b[32m    423\u001b[39m \u001b[38;5;28;01mfrom\u001b[39;00m\u001b[38;5;250m \u001b[39m\u001b[34;01m.\u001b[39;00m\u001b[34;01m_minimize\u001b[39;00m\u001b[38;5;250m \u001b[39m\u001b[38;5;28;01mimport\u001b[39;00m *\n\u001b[32m    424\u001b[39m \u001b[38;5;28;01mfrom\u001b[39;00m\u001b[38;5;250m \u001b[39m\u001b[34;01m.\u001b[39;00m\u001b[34;01m_root\u001b[39;00m\u001b[38;5;250m \u001b[39m\u001b[38;5;28;01mimport\u001b[39;00m *\n",
      "\u001b[36mFile \u001b[39m\u001b[32m~/miniconda3/envs/multimodal/lib/python3.12/site-packages/scipy/optimize/_optimize.py:34\u001b[39m\n\u001b[32m     32\u001b[39m \u001b[38;5;28;01mfrom\u001b[39;00m\u001b[38;5;250m \u001b[39m\u001b[34;01mnumpy\u001b[39;00m\u001b[38;5;250m \u001b[39m\u001b[38;5;28;01mimport\u001b[39;00m eye, argmin, zeros, shape, asarray, sqrt\n\u001b[32m     33\u001b[39m \u001b[38;5;28;01mimport\u001b[39;00m\u001b[38;5;250m \u001b[39m\u001b[34;01mnumpy\u001b[39;00m\u001b[38;5;250m \u001b[39m\u001b[38;5;28;01mas\u001b[39;00m\u001b[38;5;250m \u001b[39m\u001b[34;01mnp\u001b[39;00m\n\u001b[32m---> \u001b[39m\u001b[32m34\u001b[39m \u001b[38;5;28;01mfrom\u001b[39;00m\u001b[38;5;250m \u001b[39m\u001b[34;01mscipy\u001b[39;00m\u001b[34;01m.\u001b[39;00m\u001b[34;01mlinalg\u001b[39;00m\u001b[38;5;250m \u001b[39m\u001b[38;5;28;01mimport\u001b[39;00m cholesky, issymmetric, LinAlgError\n\u001b[32m     35\u001b[39m \u001b[38;5;28;01mfrom\u001b[39;00m\u001b[38;5;250m \u001b[39m\u001b[34;01mscipy\u001b[39;00m\u001b[34;01m.\u001b[39;00m\u001b[34;01msparse\u001b[39;00m\u001b[34;01m.\u001b[39;00m\u001b[34;01mlinalg\u001b[39;00m\u001b[38;5;250m \u001b[39m\u001b[38;5;28;01mimport\u001b[39;00m LinearOperator\n\u001b[32m     36\u001b[39m \u001b[38;5;28;01mfrom\u001b[39;00m\u001b[38;5;250m \u001b[39m\u001b[34;01m.\u001b[39;00m\u001b[34;01m_linesearch\u001b[39;00m\u001b[38;5;250m \u001b[39m\u001b[38;5;28;01mimport\u001b[39;00m (line_search_wolfe1, line_search_wolfe2,\n\u001b[32m     37\u001b[39m                           line_search_wolfe2 \u001b[38;5;28;01mas\u001b[39;00m line_search,\n\u001b[32m     38\u001b[39m                           LineSearchWarning)\n",
      "\u001b[36mFile \u001b[39m\u001b[32m~/miniconda3/envs/multimodal/lib/python3.12/site-packages/scipy/linalg/__init__.py:205\u001b[39m\n\u001b[32m    203\u001b[39m \u001b[38;5;28;01mfrom\u001b[39;00m\u001b[38;5;250m \u001b[39m\u001b[34;01m.\u001b[39;00m\u001b[34;01m_misc\u001b[39;00m\u001b[38;5;250m \u001b[39m\u001b[38;5;28;01mimport\u001b[39;00m *\n\u001b[32m    204\u001b[39m \u001b[38;5;28;01mfrom\u001b[39;00m\u001b[38;5;250m \u001b[39m\u001b[34;01m.\u001b[39;00m\u001b[34;01m_cythonized_array_utils\u001b[39;00m\u001b[38;5;250m \u001b[39m\u001b[38;5;28;01mimport\u001b[39;00m *\n\u001b[32m--> \u001b[39m\u001b[32m205\u001b[39m \u001b[38;5;28;01mfrom\u001b[39;00m\u001b[38;5;250m \u001b[39m\u001b[34;01m.\u001b[39;00m\u001b[34;01m_basic\u001b[39;00m\u001b[38;5;250m \u001b[39m\u001b[38;5;28;01mimport\u001b[39;00m *\n\u001b[32m    206\u001b[39m \u001b[38;5;28;01mfrom\u001b[39;00m\u001b[38;5;250m \u001b[39m\u001b[34;01m.\u001b[39;00m\u001b[34;01m_decomp\u001b[39;00m\u001b[38;5;250m \u001b[39m\u001b[38;5;28;01mimport\u001b[39;00m *\n\u001b[32m    207\u001b[39m \u001b[38;5;28;01mfrom\u001b[39;00m\u001b[38;5;250m \u001b[39m\u001b[34;01m.\u001b[39;00m\u001b[34;01m_decomp_lu\u001b[39;00m\u001b[38;5;250m \u001b[39m\u001b[38;5;28;01mimport\u001b[39;00m *\n",
      "\u001b[36mFile \u001b[39m\u001b[32m~/miniconda3/envs/multimodal/lib/python3.12/site-packages/scipy/linalg/_basic.py:14\u001b[39m\n\u001b[32m     12\u001b[39m \u001b[38;5;28;01mfrom\u001b[39;00m\u001b[38;5;250m \u001b[39m\u001b[34;01m.\u001b[39;00m\u001b[34;01mlapack\u001b[39;00m\u001b[38;5;250m \u001b[39m\u001b[38;5;28;01mimport\u001b[39;00m get_lapack_funcs, _compute_lwork\n\u001b[32m     13\u001b[39m \u001b[38;5;28;01mfrom\u001b[39;00m\u001b[38;5;250m \u001b[39m\u001b[34;01m.\u001b[39;00m\u001b[34;01m_misc\u001b[39;00m\u001b[38;5;250m \u001b[39m\u001b[38;5;28;01mimport\u001b[39;00m LinAlgError, _datacopied, LinAlgWarning\n\u001b[32m---> \u001b[39m\u001b[32m14\u001b[39m \u001b[38;5;28;01mfrom\u001b[39;00m\u001b[38;5;250m \u001b[39m\u001b[34;01m.\u001b[39;00m\u001b[34;01m_decomp\u001b[39;00m\u001b[38;5;250m \u001b[39m\u001b[38;5;28;01mimport\u001b[39;00m _asarray_validated\n\u001b[32m     15\u001b[39m \u001b[38;5;28;01mfrom\u001b[39;00m\u001b[38;5;250m \u001b[39m\u001b[34;01m.\u001b[39;00m\u001b[38;5;250m \u001b[39m\u001b[38;5;28;01mimport\u001b[39;00m _decomp, _decomp_svd\n\u001b[32m     16\u001b[39m \u001b[38;5;28;01mfrom\u001b[39;00m\u001b[38;5;250m \u001b[39m\u001b[34;01m.\u001b[39;00m\u001b[34;01m_solve_toeplitz\u001b[39;00m\u001b[38;5;250m \u001b[39m\u001b[38;5;28;01mimport\u001b[39;00m levinson\n",
      "\u001b[36mFile \u001b[39m\u001b[32m~/miniconda3/envs/multimodal/lib/python3.12/site-packages/scipy/linalg/_decomp.py:24\u001b[39m\n\u001b[32m     20\u001b[39m \u001b[38;5;28;01mfrom\u001b[39;00m\u001b[38;5;250m \u001b[39m\u001b[34;01mnumpy\u001b[39;00m\u001b[38;5;250m \u001b[39m\u001b[38;5;28;01mimport\u001b[39;00m (array, isfinite, inexact, nonzero, iscomplexobj,\n\u001b[32m     21\u001b[39m                    flatnonzero, conj, asarray, argsort, empty,\n\u001b[32m     22\u001b[39m                    iscomplex, zeros, einsum, eye, inf)\n\u001b[32m     23\u001b[39m \u001b[38;5;66;03m# Local imports\u001b[39;00m\n\u001b[32m---> \u001b[39m\u001b[32m24\u001b[39m \u001b[38;5;28;01mfrom\u001b[39;00m\u001b[38;5;250m \u001b[39m\u001b[34;01mscipy\u001b[39;00m\u001b[34;01m.\u001b[39;00m\u001b[34;01m_lib\u001b[39;00m\u001b[34;01m.\u001b[39;00m\u001b[34;01m_util\u001b[39;00m\u001b[38;5;250m \u001b[39m\u001b[38;5;28;01mimport\u001b[39;00m _asarray_validated\n\u001b[32m     25\u001b[39m \u001b[38;5;28;01mfrom\u001b[39;00m\u001b[38;5;250m \u001b[39m\u001b[34;01m.\u001b[39;00m\u001b[34;01m_misc\u001b[39;00m\u001b[38;5;250m \u001b[39m\u001b[38;5;28;01mimport\u001b[39;00m LinAlgError, _datacopied, norm\n\u001b[32m     26\u001b[39m \u001b[38;5;28;01mfrom\u001b[39;00m\u001b[38;5;250m \u001b[39m\u001b[34;01m.\u001b[39;00m\u001b[34;01mlapack\u001b[39;00m\u001b[38;5;250m \u001b[39m\u001b[38;5;28;01mimport\u001b[39;00m get_lapack_funcs, _compute_lwork\n",
      "\u001b[36mFile \u001b[39m\u001b[32m~/miniconda3/envs/multimodal/lib/python3.12/site-packages/scipy/_lib/_util.py:13\u001b[39m\n\u001b[32m     10\u001b[39m \u001b[38;5;28;01mfrom\u001b[39;00m\u001b[38;5;250m \u001b[39m\u001b[34;01mtyping\u001b[39;00m\u001b[38;5;250m \u001b[39m\u001b[38;5;28;01mimport\u001b[39;00m TypeAlias, TypeVar\n\u001b[32m     12\u001b[39m \u001b[38;5;28;01mimport\u001b[39;00m\u001b[38;5;250m \u001b[39m\u001b[34;01mnumpy\u001b[39;00m\u001b[38;5;250m \u001b[39m\u001b[38;5;28;01mas\u001b[39;00m\u001b[38;5;250m \u001b[39m\u001b[34;01mnp\u001b[39;00m\n\u001b[32m---> \u001b[39m\u001b[32m13\u001b[39m \u001b[38;5;28;01mfrom\u001b[39;00m\u001b[38;5;250m \u001b[39m\u001b[34;01mscipy\u001b[39;00m\u001b[34;01m.\u001b[39;00m\u001b[34;01m_lib\u001b[39;00m\u001b[34;01m.\u001b[39;00m\u001b[34;01m_array_api\u001b[39;00m\u001b[38;5;250m \u001b[39m\u001b[38;5;28;01mimport\u001b[39;00m array_namespace, is_numpy, xp_size\n\u001b[32m     14\u001b[39m \u001b[38;5;28;01mfrom\u001b[39;00m\u001b[38;5;250m \u001b[39m\u001b[34;01mscipy\u001b[39;00m\u001b[34;01m.\u001b[39;00m\u001b[34;01m_lib\u001b[39;00m\u001b[34;01m.\u001b[39;00m\u001b[34;01m_docscrape\u001b[39;00m\u001b[38;5;250m \u001b[39m\u001b[38;5;28;01mimport\u001b[39;00m FunctionDoc, Parameter\n\u001b[32m     17\u001b[39m AxisError: \u001b[38;5;28mtype\u001b[39m[\u001b[38;5;167;01mException\u001b[39;00m]\n",
      "\u001b[36mFile \u001b[39m\u001b[32m~/miniconda3/envs/multimodal/lib/python3.12/site-packages/scipy/_lib/_array_api.py:18\u001b[39m\n\u001b[32m     15\u001b[39m \u001b[38;5;28;01mimport\u001b[39;00m\u001b[38;5;250m \u001b[39m\u001b[34;01mnumpy\u001b[39;00m\u001b[34;01m.\u001b[39;00m\u001b[34;01mtyping\u001b[39;00m\u001b[38;5;250m \u001b[39m\u001b[38;5;28;01mas\u001b[39;00m\u001b[38;5;250m \u001b[39m\u001b[34;01mnpt\u001b[39;00m\n\u001b[32m     17\u001b[39m \u001b[38;5;28;01mfrom\u001b[39;00m\u001b[38;5;250m \u001b[39m\u001b[34;01mscipy\u001b[39;00m\u001b[34;01m.\u001b[39;00m\u001b[34;01m_lib\u001b[39;00m\u001b[38;5;250m \u001b[39m\u001b[38;5;28;01mimport\u001b[39;00m array_api_compat\n\u001b[32m---> \u001b[39m\u001b[32m18\u001b[39m \u001b[38;5;28;01mfrom\u001b[39;00m\u001b[38;5;250m \u001b[39m\u001b[34;01mscipy\u001b[39;00m\u001b[34;01m.\u001b[39;00m\u001b[34;01m_lib\u001b[39;00m\u001b[34;01m.\u001b[39;00m\u001b[34;01marray_api_compat\u001b[39;00m\u001b[38;5;250m \u001b[39m\u001b[38;5;28;01mimport\u001b[39;00m (\n\u001b[32m     19\u001b[39m     is_array_api_obj,\n\u001b[32m     20\u001b[39m     size \u001b[38;5;28;01mas\u001b[39;00m xp_size,\n\u001b[32m     21\u001b[39m     numpy \u001b[38;5;28;01mas\u001b[39;00m np_compat,\n\u001b[32m     22\u001b[39m     device \u001b[38;5;28;01mas\u001b[39;00m xp_device,\n\u001b[32m     23\u001b[39m     is_numpy_namespace \u001b[38;5;28;01mas\u001b[39;00m is_numpy,\n\u001b[32m     24\u001b[39m     is_cupy_namespace \u001b[38;5;28;01mas\u001b[39;00m is_cupy,\n\u001b[32m     25\u001b[39m     is_torch_namespace \u001b[38;5;28;01mas\u001b[39;00m is_torch,\n\u001b[32m     26\u001b[39m     is_jax_namespace \u001b[38;5;28;01mas\u001b[39;00m is_jax,\n\u001b[32m     27\u001b[39m     is_array_api_strict_namespace \u001b[38;5;28;01mas\u001b[39;00m is_array_api_strict\n\u001b[32m     28\u001b[39m )\n\u001b[32m     30\u001b[39m __all__ = [\n\u001b[32m     31\u001b[39m     \u001b[33m'\u001b[39m\u001b[33m_asarray\u001b[39m\u001b[33m'\u001b[39m, \u001b[33m'\u001b[39m\u001b[33marray_namespace\u001b[39m\u001b[33m'\u001b[39m, \u001b[33m'\u001b[39m\u001b[33massert_almost_equal\u001b[39m\u001b[33m'\u001b[39m, \u001b[33m'\u001b[39m\u001b[33massert_array_almost_equal\u001b[39m\u001b[33m'\u001b[39m,\n\u001b[32m     32\u001b[39m     \u001b[33m'\u001b[39m\u001b[33mget_xp_devices\u001b[39m\u001b[33m'\u001b[39m,\n\u001b[32m   (...)\u001b[39m\u001b[32m     38\u001b[39m     \u001b[33m'\u001b[39m\u001b[33mxp_take_along_axis\u001b[39m\u001b[33m'\u001b[39m, \u001b[33m'\u001b[39m\u001b[33mxp_unsupported_param_msg\u001b[39m\u001b[33m'\u001b[39m, \u001b[33m'\u001b[39m\u001b[33mxp_vector_norm\u001b[39m\u001b[33m'\u001b[39m,\n\u001b[32m     39\u001b[39m ]\n\u001b[32m     42\u001b[39m \u001b[38;5;66;03m# To enable array API and strict array-like input validation\u001b[39;00m\n",
      "\u001b[36mFile \u001b[39m\u001b[32m~/miniconda3/envs/multimodal/lib/python3.12/site-packages/scipy/_lib/array_api_compat/numpy/__init__.py:1\u001b[39m\n\u001b[32m----> \u001b[39m\u001b[32m1\u001b[39m \u001b[38;5;28;01mfrom\u001b[39;00m\u001b[38;5;250m \u001b[39m\u001b[34;01mnumpy\u001b[39;00m\u001b[38;5;250m \u001b[39m\u001b[38;5;28;01mimport\u001b[39;00m * \u001b[38;5;66;03m# noqa: F403\u001b[39;00m\n\u001b[32m      3\u001b[39m \u001b[38;5;66;03m# from numpy import * doesn't overwrite these builtin names\u001b[39;00m\n\u001b[32m      4\u001b[39m \u001b[38;5;28;01mfrom\u001b[39;00m\u001b[38;5;250m \u001b[39m\u001b[34;01mnumpy\u001b[39;00m\u001b[38;5;250m \u001b[39m\u001b[38;5;28;01mimport\u001b[39;00m \u001b[38;5;28mabs\u001b[39m, \u001b[38;5;28mmax\u001b[39m, \u001b[38;5;28mmin\u001b[39m, \u001b[38;5;28mround\u001b[39m \u001b[38;5;66;03m# noqa: F401\u001b[39;00m\n",
      "\u001b[36mFile \u001b[39m\u001b[32m~/miniconda3/envs/multimodal/lib/python3.12/site-packages/numpy/testing/__init__.py:11\u001b[39m\n\u001b[32m      8\u001b[39m \u001b[38;5;28;01mfrom\u001b[39;00m\u001b[38;5;250m \u001b[39m\u001b[34;01munittest\u001b[39;00m\u001b[38;5;250m \u001b[39m\u001b[38;5;28;01mimport\u001b[39;00m TestCase\n\u001b[32m     10\u001b[39m \u001b[38;5;28;01mfrom\u001b[39;00m\u001b[38;5;250m \u001b[39m\u001b[34;01m.\u001b[39;00m\u001b[38;5;250m \u001b[39m\u001b[38;5;28;01mimport\u001b[39;00m _private\n\u001b[32m---> \u001b[39m\u001b[32m11\u001b[39m \u001b[38;5;28;01mfrom\u001b[39;00m\u001b[38;5;250m \u001b[39m\u001b[34;01m.\u001b[39;00m\u001b[34;01m_private\u001b[39;00m\u001b[34;01m.\u001b[39;00m\u001b[34;01mutils\u001b[39;00m\u001b[38;5;250m \u001b[39m\u001b[38;5;28;01mimport\u001b[39;00m *\n\u001b[32m     12\u001b[39m \u001b[38;5;28;01mfrom\u001b[39;00m\u001b[38;5;250m \u001b[39m\u001b[34;01m.\u001b[39;00m\u001b[34;01m_private\u001b[39;00m\u001b[34;01m.\u001b[39;00m\u001b[34;01mutils\u001b[39;00m\u001b[38;5;250m \u001b[39m\u001b[38;5;28;01mimport\u001b[39;00m (_assert_valid_refcount, _gen_alignment_data)\n\u001b[32m     13\u001b[39m \u001b[38;5;28;01mfrom\u001b[39;00m\u001b[38;5;250m \u001b[39m\u001b[34;01m.\u001b[39;00m\u001b[34;01m_private\u001b[39;00m\u001b[38;5;250m \u001b[39m\u001b[38;5;28;01mimport\u001b[39;00m extbuild\n",
      "\u001b[36mFile \u001b[39m\u001b[32m~/miniconda3/envs/multimodal/lib/python3.12/site-packages/numpy/testing/_private/utils.py:469\u001b[39m\n\u001b[32m    465\u001b[39m         pprint.pprint(desired, msg)\n\u001b[32m    466\u001b[39m         \u001b[38;5;28;01mraise\u001b[39;00m \u001b[38;5;167;01mAssertionError\u001b[39;00m(msg.getvalue())\n\u001b[32m--> \u001b[39m\u001b[32m469\u001b[39m \u001b[38;5;129m@np\u001b[39m\u001b[43m.\u001b[49m\u001b[43m_no_nep50_warning\u001b[49m()\n\u001b[32m    470\u001b[39m \u001b[38;5;28;01mdef\u001b[39;00m\u001b[38;5;250m \u001b[39m\u001b[34massert_almost_equal\u001b[39m(actual, desired, decimal=\u001b[32m7\u001b[39m, err_msg=\u001b[33m'\u001b[39m\u001b[33m'\u001b[39m, verbose=\u001b[38;5;28;01mTrue\u001b[39;00m):\n\u001b[32m    471\u001b[39m \u001b[38;5;250m    \u001b[39m\u001b[33;03m\"\"\"\u001b[39;00m\n\u001b[32m    472\u001b[39m \u001b[33;03m    Raises an AssertionError if two items are not equal up to desired\u001b[39;00m\n\u001b[32m    473\u001b[39m \u001b[33;03m    precision.\u001b[39;00m\n\u001b[32m   (...)\u001b[39m\u001b[32m    537\u001b[39m \n\u001b[32m    538\u001b[39m \u001b[33;03m    \"\"\"\u001b[39;00m\n\u001b[32m    539\u001b[39m     __tracebackhide__ = \u001b[38;5;28;01mTrue\u001b[39;00m  \u001b[38;5;66;03m# Hide traceback for py.test\u001b[39;00m\n",
      "\u001b[36mFile \u001b[39m\u001b[32m~/miniconda3/envs/multimodal/lib/python3.12/site-packages/numpy/__init__.py:414\u001b[39m, in \u001b[36m__getattr__\u001b[39m\u001b[34m(attr)\u001b[39m\n\u001b[32m    411\u001b[39m     \u001b[38;5;28;01mimport\u001b[39;00m\u001b[38;5;250m \u001b[39m\u001b[34;01mnumpy\u001b[39;00m\u001b[34;01m.\u001b[39;00m\u001b[34;01mchar\u001b[39;00m\u001b[38;5;250m \u001b[39m\u001b[38;5;28;01mas\u001b[39;00m\u001b[38;5;250m \u001b[39m\u001b[34;01mchar\u001b[39;00m\n\u001b[32m    412\u001b[39m     \u001b[38;5;28;01mreturn\u001b[39;00m char.chararray\n\u001b[32m--> \u001b[39m\u001b[32m414\u001b[39m \u001b[38;5;28;01mraise\u001b[39;00m \u001b[38;5;167;01mAttributeError\u001b[39;00m(\u001b[33m\"\u001b[39m\u001b[33mmodule \u001b[39m\u001b[38;5;132;01m{!r}\u001b[39;00m\u001b[33m has no attribute \u001b[39m\u001b[33m\"\u001b[39m\n\u001b[32m    415\u001b[39m                      \u001b[33m\"\u001b[39m\u001b[38;5;132;01m{!r}\u001b[39;00m\u001b[33m\"\u001b[39m.format(\u001b[34m__name__\u001b[39m, attr))\n",
      "\u001b[31mAttributeError\u001b[39m: module 'numpy' has no attribute '_no_nep50_warning'"
     ]
    }
   ],
   "source": [
    "import umap.umap_ as umap\n",
    "print(umap.UMAP())\n"
   ]
  },
  {
   "cell_type": "code",
   "execution_count": 31,
   "metadata": {},
   "outputs": [
    {
     "ename": "ModuleNotFoundError",
     "evalue": "No module named 'numpy.testing'",
     "output_type": "error",
     "traceback": [
      "\u001b[31m---------------------------------------------------------------------------\u001b[39m",
      "\u001b[31mModuleNotFoundError\u001b[39m                       Traceback (most recent call last)",
      "\u001b[36mCell\u001b[39m\u001b[36m \u001b[39m\u001b[32mIn[31]\u001b[39m\u001b[32m, line 4\u001b[39m\n\u001b[32m      1\u001b[39m \u001b[38;5;66;03m# ------------------------------\u001b[39;00m\n\u001b[32m      2\u001b[39m \u001b[38;5;66;03m# 🔹 UMAP Visualization of Test Data Before and After Transformation\u001b[39;00m\n\u001b[32m      3\u001b[39m \u001b[38;5;66;03m# ------------------------------\u001b[39;00m\n\u001b[32m----> \u001b[39m\u001b[32m4\u001b[39m \u001b[38;5;28;01mimport\u001b[39;00m\u001b[38;5;250m \u001b[39m\u001b[34;01mumap\u001b[39;00m\u001b[34;01m.\u001b[39;00m\u001b[34;01mumap_\u001b[39;00m\u001b[38;5;250m \u001b[39m\u001b[38;5;28;01mas\u001b[39;00m\u001b[38;5;250m \u001b[39m\u001b[34;01mumap\u001b[39;00m\n\u001b[32m      6\u001b[39m \u001b[38;5;28;01mdef\u001b[39;00m\u001b[38;5;250m \u001b[39m\u001b[34mplot_umap\u001b[39m(data, labels, title, colors, filename=\u001b[38;5;28;01mNone\u001b[39;00m):\n\u001b[32m      7\u001b[39m \u001b[38;5;250m    \u001b[39m\u001b[33;03m\"\"\" UMAP 2D visualization of embeddings \"\"\"\u001b[39;00m\n",
      "\u001b[36mFile \u001b[39m\u001b[32m~/miniconda3/envs/multimodal/lib/python3.12/site-packages/umap/umap_.py:10\u001b[39m\n\u001b[32m      7\u001b[39m \u001b[38;5;28;01mfrom\u001b[39;00m\u001b[38;5;250m \u001b[39m\u001b[34;01mwarnings\u001b[39;00m\u001b[38;5;250m \u001b[39m\u001b[38;5;28;01mimport\u001b[39;00m warn\n\u001b[32m      8\u001b[39m \u001b[38;5;28;01mimport\u001b[39;00m\u001b[38;5;250m \u001b[39m\u001b[34;01mtime\u001b[39;00m\n\u001b[32m---> \u001b[39m\u001b[32m10\u001b[39m \u001b[38;5;28;01mfrom\u001b[39;00m\u001b[38;5;250m \u001b[39m\u001b[34;01mscipy\u001b[39;00m\u001b[34;01m.\u001b[39;00m\u001b[34;01moptimize\u001b[39;00m\u001b[38;5;250m \u001b[39m\u001b[38;5;28;01mimport\u001b[39;00m curve_fit\n\u001b[32m     11\u001b[39m \u001b[38;5;28;01mfrom\u001b[39;00m\u001b[38;5;250m \u001b[39m\u001b[34;01msklearn\u001b[39;00m\u001b[34;01m.\u001b[39;00m\u001b[34;01mbase\u001b[39;00m\u001b[38;5;250m \u001b[39m\u001b[38;5;28;01mimport\u001b[39;00m BaseEstimator\n\u001b[32m     12\u001b[39m \u001b[38;5;28;01mfrom\u001b[39;00m\u001b[38;5;250m \u001b[39m\u001b[34;01msklearn\u001b[39;00m\u001b[34;01m.\u001b[39;00m\u001b[34;01mutils\u001b[39;00m\u001b[38;5;250m \u001b[39m\u001b[38;5;28;01mimport\u001b[39;00m check_random_state, check_array\n",
      "\u001b[36mFile \u001b[39m\u001b[32m~/miniconda3/envs/multimodal/lib/python3.12/site-packages/scipy/optimize/__init__.py:422\u001b[39m\n\u001b[32m      1\u001b[39m \u001b[33;03m\"\"\"\u001b[39;00m\n\u001b[32m      2\u001b[39m \u001b[33;03m=====================================================\u001b[39;00m\n\u001b[32m      3\u001b[39m \u001b[33;03mOptimization and root finding (:mod:`scipy.optimize`)\u001b[39;00m\n\u001b[32m   (...)\u001b[39m\u001b[32m    419\u001b[39m \n\u001b[32m    420\u001b[39m \u001b[33;03m\"\"\"\u001b[39;00m  \u001b[38;5;66;03m# noqa: E501\u001b[39;00m\n\u001b[32m--> \u001b[39m\u001b[32m422\u001b[39m \u001b[38;5;28;01mfrom\u001b[39;00m\u001b[38;5;250m \u001b[39m\u001b[34;01m.\u001b[39;00m\u001b[34;01m_optimize\u001b[39;00m\u001b[38;5;250m \u001b[39m\u001b[38;5;28;01mimport\u001b[39;00m *\n\u001b[32m    423\u001b[39m \u001b[38;5;28;01mfrom\u001b[39;00m\u001b[38;5;250m \u001b[39m\u001b[34;01m.\u001b[39;00m\u001b[34;01m_minimize\u001b[39;00m\u001b[38;5;250m \u001b[39m\u001b[38;5;28;01mimport\u001b[39;00m *\n\u001b[32m    424\u001b[39m \u001b[38;5;28;01mfrom\u001b[39;00m\u001b[38;5;250m \u001b[39m\u001b[34;01m.\u001b[39;00m\u001b[34;01m_root\u001b[39;00m\u001b[38;5;250m \u001b[39m\u001b[38;5;28;01mimport\u001b[39;00m *\n",
      "\u001b[36mFile \u001b[39m\u001b[32m~/miniconda3/envs/multimodal/lib/python3.12/site-packages/scipy/optimize/_optimize.py:34\u001b[39m\n\u001b[32m     32\u001b[39m \u001b[38;5;28;01mfrom\u001b[39;00m\u001b[38;5;250m \u001b[39m\u001b[34;01mnumpy\u001b[39;00m\u001b[38;5;250m \u001b[39m\u001b[38;5;28;01mimport\u001b[39;00m eye, argmin, zeros, shape, asarray, sqrt\n\u001b[32m     33\u001b[39m \u001b[38;5;28;01mimport\u001b[39;00m\u001b[38;5;250m \u001b[39m\u001b[34;01mnumpy\u001b[39;00m\u001b[38;5;250m \u001b[39m\u001b[38;5;28;01mas\u001b[39;00m\u001b[38;5;250m \u001b[39m\u001b[34;01mnp\u001b[39;00m\n\u001b[32m---> \u001b[39m\u001b[32m34\u001b[39m \u001b[38;5;28;01mfrom\u001b[39;00m\u001b[38;5;250m \u001b[39m\u001b[34;01mscipy\u001b[39;00m\u001b[34;01m.\u001b[39;00m\u001b[34;01mlinalg\u001b[39;00m\u001b[38;5;250m \u001b[39m\u001b[38;5;28;01mimport\u001b[39;00m cholesky, issymmetric, LinAlgError\n\u001b[32m     35\u001b[39m \u001b[38;5;28;01mfrom\u001b[39;00m\u001b[38;5;250m \u001b[39m\u001b[34;01mscipy\u001b[39;00m\u001b[34;01m.\u001b[39;00m\u001b[34;01msparse\u001b[39;00m\u001b[34;01m.\u001b[39;00m\u001b[34;01mlinalg\u001b[39;00m\u001b[38;5;250m \u001b[39m\u001b[38;5;28;01mimport\u001b[39;00m LinearOperator\n\u001b[32m     36\u001b[39m \u001b[38;5;28;01mfrom\u001b[39;00m\u001b[38;5;250m \u001b[39m\u001b[34;01m.\u001b[39;00m\u001b[34;01m_linesearch\u001b[39;00m\u001b[38;5;250m \u001b[39m\u001b[38;5;28;01mimport\u001b[39;00m (line_search_wolfe1, line_search_wolfe2,\n\u001b[32m     37\u001b[39m                           line_search_wolfe2 \u001b[38;5;28;01mas\u001b[39;00m line_search,\n\u001b[32m     38\u001b[39m                           LineSearchWarning)\n",
      "\u001b[36mFile \u001b[39m\u001b[32m~/miniconda3/envs/multimodal/lib/python3.12/site-packages/scipy/linalg/__init__.py:205\u001b[39m\n\u001b[32m    203\u001b[39m \u001b[38;5;28;01mfrom\u001b[39;00m\u001b[38;5;250m \u001b[39m\u001b[34;01m.\u001b[39;00m\u001b[34;01m_misc\u001b[39;00m\u001b[38;5;250m \u001b[39m\u001b[38;5;28;01mimport\u001b[39;00m *\n\u001b[32m    204\u001b[39m \u001b[38;5;28;01mfrom\u001b[39;00m\u001b[38;5;250m \u001b[39m\u001b[34;01m.\u001b[39;00m\u001b[34;01m_cythonized_array_utils\u001b[39;00m\u001b[38;5;250m \u001b[39m\u001b[38;5;28;01mimport\u001b[39;00m *\n\u001b[32m--> \u001b[39m\u001b[32m205\u001b[39m \u001b[38;5;28;01mfrom\u001b[39;00m\u001b[38;5;250m \u001b[39m\u001b[34;01m.\u001b[39;00m\u001b[34;01m_basic\u001b[39;00m\u001b[38;5;250m \u001b[39m\u001b[38;5;28;01mimport\u001b[39;00m *\n\u001b[32m    206\u001b[39m \u001b[38;5;28;01mfrom\u001b[39;00m\u001b[38;5;250m \u001b[39m\u001b[34;01m.\u001b[39;00m\u001b[34;01m_decomp\u001b[39;00m\u001b[38;5;250m \u001b[39m\u001b[38;5;28;01mimport\u001b[39;00m *\n\u001b[32m    207\u001b[39m \u001b[38;5;28;01mfrom\u001b[39;00m\u001b[38;5;250m \u001b[39m\u001b[34;01m.\u001b[39;00m\u001b[34;01m_decomp_lu\u001b[39;00m\u001b[38;5;250m \u001b[39m\u001b[38;5;28;01mimport\u001b[39;00m *\n",
      "\u001b[36mFile \u001b[39m\u001b[32m~/miniconda3/envs/multimodal/lib/python3.12/site-packages/scipy/linalg/_basic.py:14\u001b[39m\n\u001b[32m     12\u001b[39m \u001b[38;5;28;01mfrom\u001b[39;00m\u001b[38;5;250m \u001b[39m\u001b[34;01m.\u001b[39;00m\u001b[34;01mlapack\u001b[39;00m\u001b[38;5;250m \u001b[39m\u001b[38;5;28;01mimport\u001b[39;00m get_lapack_funcs, _compute_lwork\n\u001b[32m     13\u001b[39m \u001b[38;5;28;01mfrom\u001b[39;00m\u001b[38;5;250m \u001b[39m\u001b[34;01m.\u001b[39;00m\u001b[34;01m_misc\u001b[39;00m\u001b[38;5;250m \u001b[39m\u001b[38;5;28;01mimport\u001b[39;00m LinAlgError, _datacopied, LinAlgWarning\n\u001b[32m---> \u001b[39m\u001b[32m14\u001b[39m \u001b[38;5;28;01mfrom\u001b[39;00m\u001b[38;5;250m \u001b[39m\u001b[34;01m.\u001b[39;00m\u001b[34;01m_decomp\u001b[39;00m\u001b[38;5;250m \u001b[39m\u001b[38;5;28;01mimport\u001b[39;00m _asarray_validated\n\u001b[32m     15\u001b[39m \u001b[38;5;28;01mfrom\u001b[39;00m\u001b[38;5;250m \u001b[39m\u001b[34;01m.\u001b[39;00m\u001b[38;5;250m \u001b[39m\u001b[38;5;28;01mimport\u001b[39;00m _decomp, _decomp_svd\n\u001b[32m     16\u001b[39m \u001b[38;5;28;01mfrom\u001b[39;00m\u001b[38;5;250m \u001b[39m\u001b[34;01m.\u001b[39;00m\u001b[34;01m_solve_toeplitz\u001b[39;00m\u001b[38;5;250m \u001b[39m\u001b[38;5;28;01mimport\u001b[39;00m levinson\n",
      "\u001b[36mFile \u001b[39m\u001b[32m~/miniconda3/envs/multimodal/lib/python3.12/site-packages/scipy/linalg/_decomp.py:24\u001b[39m\n\u001b[32m     20\u001b[39m \u001b[38;5;28;01mfrom\u001b[39;00m\u001b[38;5;250m \u001b[39m\u001b[34;01mnumpy\u001b[39;00m\u001b[38;5;250m \u001b[39m\u001b[38;5;28;01mimport\u001b[39;00m (array, isfinite, inexact, nonzero, iscomplexobj,\n\u001b[32m     21\u001b[39m                    flatnonzero, conj, asarray, argsort, empty,\n\u001b[32m     22\u001b[39m                    iscomplex, zeros, einsum, eye, inf)\n\u001b[32m     23\u001b[39m \u001b[38;5;66;03m# Local imports\u001b[39;00m\n\u001b[32m---> \u001b[39m\u001b[32m24\u001b[39m \u001b[38;5;28;01mfrom\u001b[39;00m\u001b[38;5;250m \u001b[39m\u001b[34;01mscipy\u001b[39;00m\u001b[34;01m.\u001b[39;00m\u001b[34;01m_lib\u001b[39;00m\u001b[34;01m.\u001b[39;00m\u001b[34;01m_util\u001b[39;00m\u001b[38;5;250m \u001b[39m\u001b[38;5;28;01mimport\u001b[39;00m _asarray_validated\n\u001b[32m     25\u001b[39m \u001b[38;5;28;01mfrom\u001b[39;00m\u001b[38;5;250m \u001b[39m\u001b[34;01m.\u001b[39;00m\u001b[34;01m_misc\u001b[39;00m\u001b[38;5;250m \u001b[39m\u001b[38;5;28;01mimport\u001b[39;00m LinAlgError, _datacopied, norm\n\u001b[32m     26\u001b[39m \u001b[38;5;28;01mfrom\u001b[39;00m\u001b[38;5;250m \u001b[39m\u001b[34;01m.\u001b[39;00m\u001b[34;01mlapack\u001b[39;00m\u001b[38;5;250m \u001b[39m\u001b[38;5;28;01mimport\u001b[39;00m get_lapack_funcs, _compute_lwork\n",
      "\u001b[36mFile \u001b[39m\u001b[32m~/miniconda3/envs/multimodal/lib/python3.12/site-packages/scipy/_lib/_util.py:13\u001b[39m\n\u001b[32m     10\u001b[39m \u001b[38;5;28;01mfrom\u001b[39;00m\u001b[38;5;250m \u001b[39m\u001b[34;01mtyping\u001b[39;00m\u001b[38;5;250m \u001b[39m\u001b[38;5;28;01mimport\u001b[39;00m TypeAlias, TypeVar\n\u001b[32m     12\u001b[39m \u001b[38;5;28;01mimport\u001b[39;00m\u001b[38;5;250m \u001b[39m\u001b[34;01mnumpy\u001b[39;00m\u001b[38;5;250m \u001b[39m\u001b[38;5;28;01mas\u001b[39;00m\u001b[38;5;250m \u001b[39m\u001b[34;01mnp\u001b[39;00m\n\u001b[32m---> \u001b[39m\u001b[32m13\u001b[39m \u001b[38;5;28;01mfrom\u001b[39;00m\u001b[38;5;250m \u001b[39m\u001b[34;01mscipy\u001b[39;00m\u001b[34;01m.\u001b[39;00m\u001b[34;01m_lib\u001b[39;00m\u001b[34;01m.\u001b[39;00m\u001b[34;01m_array_api\u001b[39;00m\u001b[38;5;250m \u001b[39m\u001b[38;5;28;01mimport\u001b[39;00m array_namespace, is_numpy, xp_size\n\u001b[32m     14\u001b[39m \u001b[38;5;28;01mfrom\u001b[39;00m\u001b[38;5;250m \u001b[39m\u001b[34;01mscipy\u001b[39;00m\u001b[34;01m.\u001b[39;00m\u001b[34;01m_lib\u001b[39;00m\u001b[34;01m.\u001b[39;00m\u001b[34;01m_docscrape\u001b[39;00m\u001b[38;5;250m \u001b[39m\u001b[38;5;28;01mimport\u001b[39;00m FunctionDoc, Parameter\n\u001b[32m     17\u001b[39m AxisError: \u001b[38;5;28mtype\u001b[39m[\u001b[38;5;167;01mException\u001b[39;00m]\n",
      "\u001b[36mFile \u001b[39m\u001b[32m~/miniconda3/envs/multimodal/lib/python3.12/site-packages/scipy/_lib/_array_api.py:18\u001b[39m\n\u001b[32m     15\u001b[39m \u001b[38;5;28;01mimport\u001b[39;00m\u001b[38;5;250m \u001b[39m\u001b[34;01mnumpy\u001b[39;00m\u001b[34;01m.\u001b[39;00m\u001b[34;01mtyping\u001b[39;00m\u001b[38;5;250m \u001b[39m\u001b[38;5;28;01mas\u001b[39;00m\u001b[38;5;250m \u001b[39m\u001b[34;01mnpt\u001b[39;00m\n\u001b[32m     17\u001b[39m \u001b[38;5;28;01mfrom\u001b[39;00m\u001b[38;5;250m \u001b[39m\u001b[34;01mscipy\u001b[39;00m\u001b[34;01m.\u001b[39;00m\u001b[34;01m_lib\u001b[39;00m\u001b[38;5;250m \u001b[39m\u001b[38;5;28;01mimport\u001b[39;00m array_api_compat\n\u001b[32m---> \u001b[39m\u001b[32m18\u001b[39m \u001b[38;5;28;01mfrom\u001b[39;00m\u001b[38;5;250m \u001b[39m\u001b[34;01mscipy\u001b[39;00m\u001b[34;01m.\u001b[39;00m\u001b[34;01m_lib\u001b[39;00m\u001b[34;01m.\u001b[39;00m\u001b[34;01marray_api_compat\u001b[39;00m\u001b[38;5;250m \u001b[39m\u001b[38;5;28;01mimport\u001b[39;00m (\n\u001b[32m     19\u001b[39m     is_array_api_obj,\n\u001b[32m     20\u001b[39m     size \u001b[38;5;28;01mas\u001b[39;00m xp_size,\n\u001b[32m     21\u001b[39m     numpy \u001b[38;5;28;01mas\u001b[39;00m np_compat,\n\u001b[32m     22\u001b[39m     device \u001b[38;5;28;01mas\u001b[39;00m xp_device,\n\u001b[32m     23\u001b[39m     is_numpy_namespace \u001b[38;5;28;01mas\u001b[39;00m is_numpy,\n\u001b[32m     24\u001b[39m     is_cupy_namespace \u001b[38;5;28;01mas\u001b[39;00m is_cupy,\n\u001b[32m     25\u001b[39m     is_torch_namespace \u001b[38;5;28;01mas\u001b[39;00m is_torch,\n\u001b[32m     26\u001b[39m     is_jax_namespace \u001b[38;5;28;01mas\u001b[39;00m is_jax,\n\u001b[32m     27\u001b[39m     is_array_api_strict_namespace \u001b[38;5;28;01mas\u001b[39;00m is_array_api_strict\n\u001b[32m     28\u001b[39m )\n\u001b[32m     30\u001b[39m __all__ = [\n\u001b[32m     31\u001b[39m     \u001b[33m'\u001b[39m\u001b[33m_asarray\u001b[39m\u001b[33m'\u001b[39m, \u001b[33m'\u001b[39m\u001b[33marray_namespace\u001b[39m\u001b[33m'\u001b[39m, \u001b[33m'\u001b[39m\u001b[33massert_almost_equal\u001b[39m\u001b[33m'\u001b[39m, \u001b[33m'\u001b[39m\u001b[33massert_array_almost_equal\u001b[39m\u001b[33m'\u001b[39m,\n\u001b[32m     32\u001b[39m     \u001b[33m'\u001b[39m\u001b[33mget_xp_devices\u001b[39m\u001b[33m'\u001b[39m,\n\u001b[32m   (...)\u001b[39m\u001b[32m     38\u001b[39m     \u001b[33m'\u001b[39m\u001b[33mxp_take_along_axis\u001b[39m\u001b[33m'\u001b[39m, \u001b[33m'\u001b[39m\u001b[33mxp_unsupported_param_msg\u001b[39m\u001b[33m'\u001b[39m, \u001b[33m'\u001b[39m\u001b[33mxp_vector_norm\u001b[39m\u001b[33m'\u001b[39m,\n\u001b[32m     39\u001b[39m ]\n\u001b[32m     42\u001b[39m \u001b[38;5;66;03m# To enable array API and strict array-like input validation\u001b[39;00m\n",
      "\u001b[36mFile \u001b[39m\u001b[32m~/miniconda3/envs/multimodal/lib/python3.12/site-packages/scipy/_lib/array_api_compat/numpy/__init__.py:1\u001b[39m\n\u001b[32m----> \u001b[39m\u001b[32m1\u001b[39m \u001b[38;5;28;01mfrom\u001b[39;00m\u001b[38;5;250m \u001b[39m\u001b[34;01mnumpy\u001b[39;00m\u001b[38;5;250m \u001b[39m\u001b[38;5;28;01mimport\u001b[39;00m * \u001b[38;5;66;03m# noqa: F403\u001b[39;00m\n\u001b[32m      3\u001b[39m \u001b[38;5;66;03m# from numpy import * doesn't overwrite these builtin names\u001b[39;00m\n\u001b[32m      4\u001b[39m \u001b[38;5;28;01mfrom\u001b[39;00m\u001b[38;5;250m \u001b[39m\u001b[34;01mnumpy\u001b[39;00m\u001b[38;5;250m \u001b[39m\u001b[38;5;28;01mimport\u001b[39;00m \u001b[38;5;28mabs\u001b[39m, \u001b[38;5;28mmax\u001b[39m, \u001b[38;5;28mmin\u001b[39m, \u001b[38;5;28mround\u001b[39m \u001b[38;5;66;03m# noqa: F401\u001b[39;00m\n",
      "\u001b[36mFile \u001b[39m\u001b[32m~/miniconda3/envs/multimodal/lib/python3.12/site-packages/numpy/__init__.py:355\u001b[39m, in \u001b[36m__getattr__\u001b[39m\u001b[34m(attr)\u001b[39m\n\u001b[32m    353\u001b[39m     \u001b[38;5;28;01mreturn\u001b[39;00m exceptions\n\u001b[32m    354\u001b[39m \u001b[38;5;28;01melif\u001b[39;00m attr == \u001b[33m\"\u001b[39m\u001b[33mtesting\u001b[39m\u001b[33m\"\u001b[39m:\n\u001b[32m--> \u001b[39m\u001b[32m355\u001b[39m     \u001b[38;5;28;01mimport\u001b[39;00m\u001b[38;5;250m \u001b[39m\u001b[34;01mnumpy\u001b[39;00m\u001b[34;01m.\u001b[39;00m\u001b[34;01mtesting\u001b[39;00m\u001b[38;5;250m \u001b[39m\u001b[38;5;28;01mas\u001b[39;00m\u001b[38;5;250m \u001b[39m\u001b[34;01mtesting\u001b[39;00m\n\u001b[32m    356\u001b[39m     \u001b[38;5;28;01mreturn\u001b[39;00m testing\n\u001b[32m    357\u001b[39m \u001b[38;5;28;01melif\u001b[39;00m attr == \u001b[33m\"\u001b[39m\u001b[33mmatlib\u001b[39m\u001b[33m\"\u001b[39m:\n",
      "\u001b[31mModuleNotFoundError\u001b[39m: No module named 'numpy.testing'"
     ]
    }
   ],
   "source": [
    "# ------------------------------\n",
    "# 🔹 UMAP Visualization of Test Data Before and After Transformation\n",
    "# ------------------------------\n",
    "import umap.umap_ as umap\n",
    "\n",
    "def plot_umap(data, labels, title, colors, filename=None):\n",
    "    \"\"\" UMAP 2D visualization of embeddings \"\"\"\n",
    "    umap_2d = umap.UMAP(n_components=2, n_neighbors=15, min_dist=0.1, metric='cosine', random_state=42)\n",
    "    embedded_2d = umap_2d.fit_transform(data)\n",
    "\n",
    "    plt.figure(figsize=(8, 6))\n",
    "    for mod in np.unique(labels):\n",
    "        idx = (labels == mod)\n",
    "        plt.scatter(embedded_2d[idx, 0], embedded_2d[idx, 1], s=10, color=colors[mod], label=mod, alpha=0.7)\n",
    "    plt.title(title)\n",
    "    plt.legend()\n",
    "    \n",
    "    if filename:\n",
    "        plt.savefig(filename, dpi=300)\n",
    "    plt.show()\n",
    "\n",
    "# Extract test embeddings\n",
    "test_size = 1000  # Adjust as needed\n",
    "test_loader = DataLoader(test_dataset, batch_size=test_size, shuffle=False)\n",
    "\n",
    "with torch.no_grad():\n",
    "    for batch in test_loader:\n",
    "        audio_embed = batch[\"audio\"].to(device).cpu().numpy()\n",
    "        text_embed = batch[\"text\"].to(device).cpu().numpy()\n",
    "        video_embed = batch[\"video\"].to(device).cpu().numpy()\n",
    "\n",
    "        # Apply transformations\n",
    "        audio_to_text_embed = audio_to_text(torch.tensor(audio_embed).to(device)).cpu().numpy()\n",
    "        text_to_video_embed = text_to_video(torch.tensor(audio_to_text_embed).to(device)).cpu().numpy()\n",
    "        video_to_audio_embed = video_to_audio(torch.tensor(text_to_video_embed).to(device)).cpu().numpy()\n",
    "\n",
    "        break  # Only take first batch\n",
    "\n",
    "# Define colors\n",
    "colors = {'Audio': 'red', 'Text': 'green', 'Video': 'blue'}\n",
    "\n",
    "# 1️⃣ Raw Test Embeddings\n",
    "raw_embeddings = np.vstack([audio_embed, text_embed, video_embed])\n",
    "raw_labels = np.array(['Audio'] * len(audio_embed) + ['Text'] * len(text_embed) + ['Video'] * len(video_embed))\n",
    "plot_umap(raw_embeddings, raw_labels, \"Raw Test Embeddings (UMAP 2D)\", colors, \"raw_test_embeddings.png\")\n",
    "\n",
    "# 2️⃣ Audio → Text Alignment\n",
    "audio_text_embeddings = np.vstack([audio_to_text_embed, text_embed])\n",
    "audio_text_labels = np.array(['Audio (Aligned)'] * len(audio_to_text_embed) + ['Text'] * len(text_embed))\n",
    "plot_umap(audio_text_embeddings, audio_text_labels, \"Audio → Text (UMAP 2D)\", colors, \"audio_to_text.png\")\n",
    "\n",
    "# 3️⃣ Text → Video Alignment\n",
    "text_video_embeddings = np.vstack([text_to_video_embed, video_embed])\n",
    "text_video_labels = np.array(['Text (Aligned)'] * len(text_to_video_embed) + ['Video'] * len(video_embed))\n",
    "plot_umap(text_video_embeddings, text_video_labels, \"Text → Video (UMAP 2D)\", colors, \"text_to_video.png\")\n",
    "\n",
    "# 4️⃣ Video → Audio Alignment\n",
    "video_audio_embeddings = np.vstack([video_to_audio_embed, audio_embed])\n",
    "video_audio_labels = np.array(['Video (Aligned)'] * len(video_to_audio_embed) + ['Audio'] * len(audio_embed))\n",
    "plot_umap(video_audio_embeddings, video_audio_labels, \"Video → Audio (UMAP 2D)\", colors, \"video_to_audio.png\")"
   ]
  },
  {
   "cell_type": "code",
   "execution_count": null,
   "metadata": {},
   "outputs": [],
   "source": [
    "from sklearn.manifold import TSNE\n",
    "\n",
    "# 2D t-SNE projection for raw and aligned embeddings\n",
    "tsne = TSNE(n_components=2, perplexity=30, init='pca', random_state=42)\n",
    "raw_tsne_2d = tsne.fit_transform(raw_embeddings)      # :contentReference[oaicite:4]{index=4}\n",
    "aligned_tsne_2d = tsne.fit_transform(aligned_embeddings)\n",
    "\n",
    "# Plot side-by-side 2D t-SNE scatterplots\n",
    "fig, axes = plt.subplots(1, 2, figsize=(12, 5))\n",
    "for ax, data, title in zip(axes, [raw_tsne_2d, aligned_tsne_2d], ['Raw Embeddings (t-SNE 2D)', 'Aligned Embeddings (t-SNE 2D)']):\n",
    "    for mod in modalities:\n",
    "        idx = (labels == mod)\n",
    "        ax.scatter(data[idx, 0], data[idx, 1], s=10, color=colors[mod], label=mod, alpha=0.7)\n",
    "    ax.set_title(title)\n",
    "    ax.legend()\n",
    "plt.tight_layout()\n",
    "plt.show()\n",
    "\n",
    "# (Optional) For 3D t-SNE, set n_components=3 in TSNE() and use a 3D scatter plot as done for UMAP.\n"
   ]
  },
  {
   "cell_type": "code",
   "execution_count": null,
   "metadata": {},
   "outputs": [],
   "source": [
    "from sklearn.manifold import TSNE\n",
    "import matplotlib.pyplot as plt\n",
    "import numpy as np\n",
    "\n",
    "def plot_tsne(data, labels, title, colors, filename=None, dim=2):\n",
    "    \"\"\" t-SNE visualization of embeddings \"\"\"\n",
    "    tsne = TSNE(n_components=dim, perplexity=30, init='pca', random_state=42)\n",
    "    embedded = tsne.fit_transform(data)\n",
    "\n",
    "    if dim == 2:\n",
    "        plt.figure(figsize=(8, 6))\n",
    "        for mod in np.unique(labels):\n",
    "            idx = (labels == mod)\n",
    "            plt.scatter(embedded[idx, 0], embedded[idx, 1], s=10, color=colors[mod], label=mod, alpha=0.7)\n",
    "        plt.title(title)\n",
    "        plt.legend()\n",
    "        \n",
    "    elif dim == 3:\n",
    "        fig = plt.figure(figsize=(8, 6))\n",
    "        ax = fig.add_subplot(111, projection='3d')\n",
    "        for mod in np.unique(labels):\n",
    "            idx = (labels == mod)\n",
    "            ax.scatter(embedded[idx, 0], embedded[idx, 1], embedded[idx, 2], s=10, color=colors[mod], label=mod, alpha=0.7)\n",
    "        ax.set_title(title)\n",
    "        ax.legend()\n",
    "\n",
    "    if filename:\n",
    "        plt.savefig(filename, dpi=300)\n",
    "    plt.show()\n",
    "\n",
    "# Define colors\n",
    "colors = {'Audio': 'red', 'Text': 'green', 'Video': 'blue'}\n",
    "\n",
    "# 1️⃣ Raw Test Embeddings (2D t-SNE)\n",
    "raw_embeddings = np.vstack([audio_embed, text_embed, video_embed])\n",
    "raw_labels = np.array(['Audio'] * len(audio_embed) + ['Text'] * len(text_embed) + ['Video'] * len(video_embed))\n",
    "plot_tsne(raw_embeddings, raw_labels, \"Raw Test Embeddings (t-SNE 2D)\", colors, \"raw_test_tsne.png\", dim=2)\n",
    "\n",
    "# 2️⃣ Audio → Text Alignment (2D t-SNE)\n",
    "audio_text_embeddings = np.vstack([audio_to_text_embed, text_embed])\n",
    "audio_text_labels = np.array(['Audio (Aligned)'] * len(audio_to_text_embed) + ['Text'] * len(text_embed))\n",
    "plot_tsne(audio_text_embeddings, audio_text_labels, \"Audio → Text (t-SNE 2D)\", colors, \"audio_to_text_tsne.png\", dim=2)\n",
    "\n",
    "# 3️⃣ Text → Video Alignment (2D t-SNE)\n",
    "text_video_embeddings = np.vstack([text_to_video_embed, video_embed])\n",
    "text_video_labels = np.array(['Text (Aligned)'] * len(text_to_video_embed) + ['Video'] * len(video_embed))\n",
    "plot_tsne(text_video_embeddings, text_video_labels, \"Text → Video (t-SNE 2D)\", colors, \"text_to_video_tsne.png\", dim=2)\n",
    "\n",
    "# 4️⃣ Video → Audio Alignment (2D t-SNE)\n",
    "video_audio_embeddings = np.vstack([video_to_audio_embed, audio_embed])\n",
    "video_audio_labels = np.array(['Video (Aligned)'] * len(video_to_audio_embed) + ['Audio'] * len(audio_embed))\n",
    "plot_tsne(video_audio_embeddings, video_audio_labels, \"Video → Audio (t-SNE 2D)\", colors, \"video_to_audio_tsne.png\", dim=2)\n",
    "\n",
    "# (Optional) 3D t-SNE\n",
    "plot_tsne(raw_embeddings, raw_labels, \"Raw Test Embeddings (t-SNE 3D)\", colors, \"raw_test_tsne_3d.png\", dim=3)\n",
    "plot_tsne(audio_text_embeddings, audio_text_labels, \"Audio → Text (t-SNE 3D)\", colors, \"audio_to_text_tsne_3d.png\", dim=3)\n",
    "plot_tsne(text_video_embeddings, text_video_labels, \"Text → Video (t-SNE 3D)\", colors, \"text_to_video_tsne_3d.png\", dim=3)\n",
    "plot_tsne(video_audio_embeddings, video_audio_labels, \"Video → Audio (t-SNE 3D)\", colors, \"video_to_audio_tsne_3d.png\", dim=3)\n"
   ]
  },
  {
   "cell_type": "code",
   "execution_count": null,
   "metadata": {},
   "outputs": [],
   "source": []
  }
 ],
 "metadata": {
  "kernelspec": {
   "display_name": "multimodal",
   "language": "python",
   "name": "python3"
  },
  "language_info": {
   "codemirror_mode": {
    "name": "ipython",
    "version": 3
   },
   "file_extension": ".py",
   "mimetype": "text/x-python",
   "name": "python",
   "nbconvert_exporter": "python",
   "pygments_lexer": "ipython3",
   "version": "3.13.2"
  }
 },
 "nbformat": 4,
 "nbformat_minor": 2
}
